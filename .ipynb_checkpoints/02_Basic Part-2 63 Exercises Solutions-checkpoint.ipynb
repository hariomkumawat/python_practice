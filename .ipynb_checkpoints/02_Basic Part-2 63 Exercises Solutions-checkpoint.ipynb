{
 "cells": [
  {
   "cell_type": "markdown",
   "metadata": {},
   "source": [
    "# <center>Basic(Part-II) 63 Exercises Solutions</center>"
   ]
  },
  {
   "cell_type": "markdown",
   "metadata": {},
   "source": [
    "### 1. Write a Python function that takes a sequence of numbers and determines if all the numbers are different from each other."
   ]
  },
  {
   "cell_type": "code",
   "execution_count": 8,
   "metadata": {},
   "outputs": [
    {
     "name": "stdout",
     "output_type": "stream",
     "text": [
      "True\n",
      "False\n"
     ]
    }
   ],
   "source": [
    "# Solution 1:\n",
    "\n",
    "def unique_check(nums):\n",
    "    for i in range(len(nums) - 1):\n",
    "        if nums[i] == nums[i+1]:\n",
    "            return False          # not unique\n",
    "            break\n",
    "    return True                   # unique\n",
    "        \n",
    "print(unique_check([1,5,7,9]))\n",
    "print(unique_check([2,4,5,5,7,9]))"
   ]
  },
  {
   "cell_type": "code",
   "execution_count": 6,
   "metadata": {},
   "outputs": [
    {
     "name": "stdout",
     "output_type": "stream",
     "text": [
      "True\n",
      "False\n"
     ]
    }
   ],
   "source": [
    "# Solution 2:\n",
    "\n",
    "def unique_check(nums):\n",
    "    if len(nums) == len(set(nums)):\n",
    "        return True             # unique\n",
    "    return False                # not unique\n",
    "\n",
    "print(unique_check([1,5,7,9]))\n",
    "print(unique_check([2,4,5,5,7,9]))"
   ]
  },
  {
   "cell_type": "markdown",
   "metadata": {},
   "source": [
    "### 2. Write a Python program to create all possible strings by using 'a', 'e', 'i', 'o', 'u'. Use the characters exactly once."
   ]
  },
  {
   "cell_type": "code",
   "execution_count": 18,
   "metadata": {},
   "outputs": [
    {
     "name": "stdout",
     "output_type": "stream",
     "text": [
      "iaeuo\n"
     ]
    }
   ],
   "source": [
    "import random\n",
    "\n",
    "char_list = ['a', 'e', 'i', 'o', 'u']\n",
    "random.shuffle(char_list)\n",
    "possible_string = ''.join(char_list)\n",
    "print(possible_string)              # output will be different every time we run the program. "
   ]
  },
  {
   "cell_type": "markdown",
   "metadata": {},
   "source": [
    "### 3. Write a Python program to remove and print every third number from a list of numbers until the list becomes empty."
   ]
  },
  {
   "cell_type": "code",
   "execution_count": 24,
   "metadata": {},
   "outputs": [],
   "source": [
    "nums = [10, 20, 30, 40, 50, 60, 70, 80, 90]\n"
   ]
  },
  {
   "cell_type": "code",
   "execution_count": null,
   "metadata": {},
   "outputs": [],
   "source": []
  },
  {
   "cell_type": "code",
   "execution_count": null,
   "metadata": {},
   "outputs": [],
   "source": []
  },
  {
   "cell_type": "code",
   "execution_count": null,
   "metadata": {},
   "outputs": [],
   "source": []
  },
  {
   "cell_type": "markdown",
   "metadata": {},
   "source": [
    "#### Problem's Source: [https://www.w3resource.com/python-exercises/basic/](https://www.w3resource.com/python-exercises/basic/)"
   ]
  }
 ],
 "metadata": {
  "kernelspec": {
   "display_name": "Python 3",
   "language": "python",
   "name": "python3"
  },
  "language_info": {
   "codemirror_mode": {
    "name": "ipython",
    "version": 3
   },
   "file_extension": ".py",
   "mimetype": "text/x-python",
   "name": "python",
   "nbconvert_exporter": "python",
   "pygments_lexer": "ipython3",
   "version": "3.7.3"
  }
 },
 "nbformat": 4,
 "nbformat_minor": 2
}
