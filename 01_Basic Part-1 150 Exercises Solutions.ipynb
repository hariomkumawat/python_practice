{
 "cells": [
  {
   "cell_type": "markdown",
   "metadata": {},
   "source": [
    "# <center> Python Basic (Part -I) - 150 Exercises, Practice, Solution </center>"
   ]
  },
  {
   "cell_type": "markdown",
   "metadata": {},
   "source": [
    "## 1. Write a Python program to print the following string in a specific format (see the output).\n",
    "\n",
    "*Sample String*: \"Twinkle, twinkle, little star, How I wonder what you are! Up above the world so high, Like a diamond in the sky. Twinkle, twinkle, little star, How I wonder what you are\"\n",
    "\n",
    "**Personal Tags:\n",
    "`New Learning: No` \n",
    "`Difficulty: 1star`\n",
    "`See again: No`**"
   ]
  },
  {
   "cell_type": "code",
   "execution_count": 1,
   "metadata": {
    "_kg_hide-input": true
   },
   "outputs": [
    {
     "name": "stdout",
     "output_type": "stream",
     "text": [
      "Twinkle, twinkle, little star,\n",
      "\tHow I wonder what you are!\n",
      "\t\tUp above the world so high,\n",
      "\t\tLike a diamond in the sky.\n",
      "Twinkle, twinkle, little star,\n",
      "\tHow I wonder what you are\n"
     ]
    }
   ],
   "source": [
    "print('Twinkle, twinkle, little star,\\n\\tHow I wonder what you are!\\n\\t\\tUp above the world so high,\\n\\t\\tLike a diamond in the sky.\\nTwinkle, twinkle, little star,\\n\\tHow I wonder what you are')"
   ]
  },
  {
   "cell_type": "markdown",
   "metadata": {},
   "source": [
    "## 2. Write a Python program to get the Python version you are using.\n",
    "\n",
    "**Personal Tags:\n",
    "`New Learning: Yes` \n",
    "`Difficulty: 1star`\n",
    "`See again: No`**"
   ]
  },
  {
   "cell_type": "code",
   "execution_count": 2,
   "metadata": {},
   "outputs": [
    {
     "name": "stdout",
     "output_type": "stream",
     "text": [
      "Python Version: 3.7.3 (default, Apr 24 2019, 15:29:51) [MSC v.1915 64 bit (AMD64)]\n",
      "\n",
      "Version info: sys.version_info(major=3, minor=7, micro=3, releaselevel='final', serial=0)\n"
     ]
    }
   ],
   "source": [
    "import sys\n",
    "print('Python Version:', sys.version)\n",
    "print()\n",
    "print('Version info:', sys.version_info)"
   ]
  },
  {
   "cell_type": "markdown",
   "metadata": {},
   "source": [
    "## 3. Write a Python program to display the current date and time.\n",
    "\n",
    "**Personal Tags:\n",
    "`New Learning: Yes` \n",
    "`Difficulty: 2star`\n",
    "`See again: Yes`**"
   ]
  },
  {
   "cell_type": "code",
   "execution_count": 3,
   "metadata": {},
   "outputs": [
    {
     "data": {
      "text/plain": [
       "'2019-10-09 17:10:49'"
      ]
     },
     "execution_count": 3,
     "metadata": {},
     "output_type": "execute_result"
    }
   ],
   "source": [
    "import datetime\n",
    "\n",
    "now = datetime.datetime.now()\n",
    "now.strftime('%Y-%m-%d %H:%M:%S')"
   ]
  },
  {
   "cell_type": "markdown",
   "metadata": {},
   "source": [
    "## 4. Write a Python program which accepts the radius of a circle from the user and compute the area.\n",
    "\n",
    "**Personal Tags:\n",
    "`New Learning: No` \n",
    "`Difficulty: 1star`\n",
    "`See again: No`**"
   ]
  },
  {
   "cell_type": "code",
   "execution_count": 4,
   "metadata": {},
   "outputs": [
    {
     "name": "stdout",
     "output_type": "stream",
     "text": [
      "Please input the radius of the circle:1.1\n",
      "\n",
      "Area of the circle: 3.8013271108436504\n"
     ]
    }
   ],
   "source": [
    "from math import pi\n",
    "radius = float(input('Please input the radius of the circle:'))\n",
    "\n",
    "area = pi * (radius**2)\n",
    "print('\\nArea of the circle:', area)"
   ]
  },
  {
   "cell_type": "markdown",
   "metadata": {},
   "source": [
    "## 5. Write a Python program which accepts the user's first and last name and print them in reverse order with a space between them.\n",
    "\n",
    "**Personal Tags:\n",
    "`New Learning: Yes` \n",
    "`Difficulty: 2`\n",
    "`See again: Yes`**"
   ]
  },
  {
   "cell_type": "code",
   "execution_count": 5,
   "metadata": {},
   "outputs": [
    {
     "name": "stdout",
     "output_type": "stream",
     "text": [
      "Enter first name:Mehedi\n",
      "Enter last name:Farazi\n",
      "Hello Farazi Mehedi\n"
     ]
    }
   ],
   "source": [
    "first_name = input('Enter first name:')\n",
    "last_name = input('Enter last name:')\n",
    "\n",
    "print('Hello ' + last_name + ' ' + first_name)"
   ]
  },
  {
   "cell_type": "markdown",
   "metadata": {},
   "source": [
    "## 6. Write a Python program which accepts a sequence of comma-separated numbers from user and generate a list and a tuple with those numbers. \n",
    "Sample data : 3, 5, 7, 23\n",
    "\n",
    "**Personal Tags:\n",
    "`New Learning: Yes` \n",
    "`Difficulty: 1`\n",
    "`See again: Yes`**"
   ]
  },
  {
   "cell_type": "code",
   "execution_count": 6,
   "metadata": {},
   "outputs": [
    {
     "name": "stdout",
     "output_type": "stream",
     "text": [
      "3,5,7,23\n",
      "List: ['3', '5', '7', '23']\n",
      "Tuple: ('3', '5', '7', '23')\n"
     ]
    }
   ],
   "source": [
    "data = input().split(',')\n",
    "\n",
    "print('List:', list(data))\n",
    "print('Tuple:', tuple(data))"
   ]
  },
  {
   "cell_type": "markdown",
   "metadata": {},
   "source": [
    "## 7. Write a Python program to accept a filename from the user and print the extension of that.\n",
    "\n",
    "**Personal Tags:\n",
    "`New Learning: No` \n",
    "`Difficulty: 1`\n",
    "`See again: No`**"
   ]
  },
  {
   "cell_type": "code",
   "execution_count": 7,
   "metadata": {},
   "outputs": [
    {
     "name": "stdout",
     "output_type": "stream",
     "text": [
      "Enter file name with extension: abc.txt\n",
      "\n",
      "File Extension: txt\n"
     ]
    }
   ],
   "source": [
    "file_name = input('Enter file name with extension: ')\n",
    "\n",
    "print('\\nFile Extension:', file_name.split('.')[-1])"
   ]
  },
  {
   "cell_type": "markdown",
   "metadata": {},
   "source": [
    "## 8. Write a Python program to display the first and last colors from the following list. \n",
    "color_list = [\"Red\",\"Green\",\"White\" ,\"Black\"]\n",
    "\n",
    "**Personal Tags:\n",
    "`New Learning: No` \n",
    "`Difficulty: 1`\n",
    "`See again: No`**"
   ]
  },
  {
   "cell_type": "code",
   "execution_count": 8,
   "metadata": {},
   "outputs": [
    {
     "name": "stdout",
     "output_type": "stream",
     "text": [
      "First Color:  Red\n",
      "Last Color:  Black\n"
     ]
    }
   ],
   "source": [
    "color_list = [\"Red\",\"Green\",\"White\" ,\"Black\"]\n",
    "\n",
    "print('First Color: ', color_list[0])\n",
    "print('Last Color: ', color_list[-1])"
   ]
  },
  {
   "cell_type": "markdown",
   "metadata": {},
   "source": [
    "## 9. Write a Python program to display the examination schedule. (extract the date from exam_st_date). \n",
    "exam_st_date = (11, 12, 2014)\n",
    "\n",
    "**Personal Tags:\n",
    "`New Learning: Yes` \n",
    "`Difficulty: 2`\n",
    "`See again: Yes`**"
   ]
  },
  {
   "cell_type": "code",
   "execution_count": 9,
   "metadata": {},
   "outputs": [
    {
     "name": "stdout",
     "output_type": "stream",
     "text": [
      "The examination will start from: 11 / 12 / 2014\n"
     ]
    }
   ],
   "source": [
    "exam_st_date = (11, 12, 2014)\n",
    "\n",
    "print('The examination will start from: %i / %i / %i'%exam_st_date)"
   ]
  },
  {
   "cell_type": "markdown",
   "metadata": {},
   "source": [
    "## 10. Write a Python program that accepts an integer (n) and computes the value of n+nn+nnn.\n",
    "\n",
    "**Personal Tags:\n",
    "`New Learning: Yes` \n",
    "`Difficulty: 3`\n",
    "`See again: Yes`**"
   ]
  },
  {
   "cell_type": "markdown",
   "metadata": {},
   "source": [
    "#### Docstring of built-in int() function:\n",
    "\n",
    "**int(x, base=10)**:\n",
    "\n",
    "The function returns an integer object constructed from a number or string x, or return 0 if no arguments are given.   \n",
    "If x is a number, return x.__int__().   \n",
    "For floating point numbers, this truncates towards zero.\n",
    "\n",
    "- If x is not a number or if base is given, then x must be a string, bytes, or bytearray instance representing an integer literal in radix base\n",
    "- The literal can be preceded by + or - (with no space in between) and surrounded by whitespace\n",
    "- A base-n literal consists of the digits 0 to n-1, with a to z (or A to Z) having values 10 to 35. The default base is 10.\n",
    "- The allowed values are 0 and 2-36. Base-2, -8, and -16 literals can be optionally prefixed with 0b/0B, 0o/0O, or 0x/0X, as with integer literals in code."
   ]
  },
  {
   "cell_type": "code",
   "execution_count": 10,
   "metadata": {},
   "outputs": [
    {
     "name": "stdout",
     "output_type": "stream",
     "text": [
      "Sample value of n is: 5\n",
      "Expected Result: 615\n"
     ]
    }
   ],
   "source": [
    "n = input('Sample value of n is: ')\n",
    "\n",
    "n1 = int('%s' % n)\n",
    "n2 = int('%s%s' % (n,n))\n",
    "n3 = int('%s%s%s' % (n,n,n))\n",
    "\n",
    "result = n1 + n2 + n3\n",
    "print('Expected Result:', result)"
   ]
  },
  {
   "cell_type": "markdown",
   "metadata": {},
   "source": [
    "## 11. Write a Python program to print the documents (syntax, description etc.) of Python built-in function(s).\n",
    "\n",
    "**Personal Tags:\n",
    "`New Learning: Yes` \n",
    "`Difficulty: 1`\n",
    "`See again: No`**"
   ]
  },
  {
   "cell_type": "markdown",
   "metadata": {},
   "source": [
    "##### Docstring Note:\n",
    "\n",
    "- A docstring is a string literal that occurs as the first statement in a module, function, class, or method definition.   \n",
    "- Such a docstring becomes the __doc__ special attribute of that object.\n",
    "\n",
    "- All modules should normally have docstrings, and all functions and classes exported by a module should also have docstrings.  \n",
    "- Public methods (including the __init__ constructor) should also have docstrings."
   ]
  },
  {
   "cell_type": "code",
   "execution_count": 11,
   "metadata": {},
   "outputs": [
    {
     "name": "stdout",
     "output_type": "stream",
     "text": [
      "Return the absolute value of the argument.\n"
     ]
    }
   ],
   "source": [
    "print(abs.__doc__)"
   ]
  },
  {
   "cell_type": "markdown",
   "metadata": {},
   "source": [
    "## 12. Write a Python program to print the calendar of a given month and year.\n",
    "\n",
    "Note : Use 'calendar' module.\n",
    "\n",
    "**Personal Tags:\n",
    "`New Learning: Yes`, \n",
    "`Difficulty: 1`,\n",
    "`See again: Yes`**"
   ]
  },
  {
   "cell_type": "code",
   "execution_count": 12,
   "metadata": {},
   "outputs": [
    {
     "name": "stdout",
     "output_type": "stream",
     "text": [
      "Enter a year: 1994\n",
      "Enter a month: 10\n",
      "\n",
      "Calender for month 10 of year 1994\n",
      "    October 1994\n",
      "Mo Tu We Th Fr Sa Su\n",
      "                1  2\n",
      " 3  4  5  6  7  8  9\n",
      "10 11 12 13 14 15 16\n",
      "17 18 19 20 21 22 23\n",
      "24 25 26 27 28 29 30\n",
      "31\n",
      "\n"
     ]
    }
   ],
   "source": [
    "import calendar\n",
    "\n",
    "y = int(input('Enter a year: '))\n",
    "m = int(input('Enter a month: '))\n",
    "\n",
    "print('\\nCalender for month {} of year {}'.format(m, y))\n",
    "print(calendar.month(theyear = y, themonth = m))"
   ]
  },
  {
   "cell_type": "markdown",
   "metadata": {},
   "source": [
    "## 13. Write a Python program to print the following 'here document'.\n",
    "\n",
    "**Sample string**:  \n",
    "a string that you \"don't\" have to escape  \n",
    "This  \n",
    "is a ....... multi-line  \n",
    "heredoc string --------> example\n",
    "\n",
    "**Personal Tags:\n",
    "`New Learning: Yes`, \n",
    "`Difficulty: 1`,\n",
    "`See again: No`**"
   ]
  },
  {
   "cell_type": "code",
   "execution_count": 13,
   "metadata": {},
   "outputs": [
    {
     "name": "stdout",
     "output_type": "stream",
     "text": [
      "\n",
      "a string that you \"don't\" have to escape\n",
      "This\n",
      "is a ....... multi-line\n",
      "heredoc string -------> example\n",
      "\n"
     ]
    }
   ],
   "source": [
    "print(\"\"\"\n",
    "a string that you \"don't\" have to escape\n",
    "This\n",
    "is a ....... multi-line\n",
    "heredoc string -------> example\n",
    "\"\"\")"
   ]
  },
  {
   "cell_type": "markdown",
   "metadata": {},
   "source": [
    "## 14. Write a Python program to calculate number of days between two dates.\n",
    "Sample dates : (2014, 7, 2), (2014, 7, 11)  \n",
    "Expected output : 9 days\n",
    "\n",
    "**Personal Tags:\n",
    "`New Learning: Yes`, \n",
    "`Difficulty: 02`,\n",
    "`See again: Yes`**"
   ]
  },
  {
   "cell_type": "markdown",
   "metadata": {},
   "source": [
    "### NOTE:\n",
    "\n",
    "##### datetime.date(year, month, day) :\n",
    "\n",
    "The function returns date object with same year, month and day. All arguments are required. Arguments may be integers, in the following ranges:\n",
    "\n",
    "**MINYEAR <= year <= MAXYEAR**\n",
    "- 1 <= month <= 12\n",
    "- 1 <= day <= number of days in the given month and year\n",
    "- If an argument outside those ranges is given, ValueError is raised.\n",
    "\n",
    "**Note:** The smallest year number allowed in a date or datetime object. MINYEAR is 1.  \n",
    "The largest year number allowed in a date or datetime object. MAXYEAR is 9999."
   ]
  },
  {
   "cell_type": "code",
   "execution_count": 14,
   "metadata": {},
   "outputs": [
    {
     "name": "stdout",
     "output_type": "stream",
     "text": [
      "9 days\n"
     ]
    }
   ],
   "source": [
    "import datetime\n",
    "\n",
    "date1 = datetime.date(2014, 7, 2)\n",
    "date2 = datetime.date(2014, 7, 11)\n",
    "\n",
    "diff = date2 - date1\n",
    "print(diff.days, 'days')"
   ]
  },
  {
   "cell_type": "markdown",
   "metadata": {},
   "source": [
    "## 15. Write a Python program to get the volume of a sphere with radius 6.\n",
    "\n",
    "**Personal Tags:\n",
    "`New Learning: No`, \n",
    "`Difficulty: 1`,\n",
    "`See again: No`**"
   ]
  },
  {
   "cell_type": "code",
   "execution_count": 15,
   "metadata": {},
   "outputs": [
    {
     "name": "stdout",
     "output_type": "stream",
     "text": [
      "Volume of Sphere: 904.7786842338604\n"
     ]
    }
   ],
   "source": [
    "from math import pi\n",
    "radius = 6\n",
    "\n",
    "volume = (4 * pi * radius**3) / 3\n",
    "print('Volume of Sphere:', volume)"
   ]
  },
  {
   "cell_type": "markdown",
   "metadata": {},
   "source": [
    "## 16. Write a Python program to get the difference between a given number and 17, if the number is greater than 17 return double the absolute difference.\n",
    "\n",
    "**Personal Tags:\n",
    "`New Learning: No`, \n",
    "`Difficulty: 1`,\n",
    "`See again: No`**"
   ]
  },
  {
   "cell_type": "code",
   "execution_count": 16,
   "metadata": {},
   "outputs": [
    {
     "name": "stdout",
     "output_type": "stream",
     "text": [
      "Enter a number: 22\n"
     ]
    },
    {
     "data": {
      "text/plain": [
       "10"
      ]
     },
     "execution_count": 16,
     "metadata": {},
     "output_type": "execute_result"
    }
   ],
   "source": [
    "num = int(input('Enter a number: '))\n",
    "diff = abs(num - 17)\n",
    "\n",
    "def diff_print():\n",
    "    if num > 17:\n",
    "        return 2*diff\n",
    "    else:\n",
    "        return diff\n",
    "    \n",
    "diff_print()"
   ]
  },
  {
   "cell_type": "markdown",
   "metadata": {},
   "source": [
    "## 17. Write a Python program to test whether a number is within 100 of 1000 or 2000.\n",
    "\n",
    "**Personal Tags:\n",
    "`New Learning: Yes`, \n",
    "`Difficulty: 1`,\n",
    "`See again: Yes`**"
   ]
  },
  {
   "cell_type": "code",
   "execution_count": 17,
   "metadata": {},
   "outputs": [
    {
     "name": "stdout",
     "output_type": "stream",
     "text": [
      "True\n",
      "False\n",
      "False\n",
      "True\n"
     ]
    }
   ],
   "source": [
    "def near_thousand(n):\n",
    "    return (abs(1000 - n) <= 100) or (abs(2000 - n) <= 100)     # This single line will evaluate to either TRUE/FALSE.\n",
    "\n",
    "print(near_thousand(1000))\n",
    "print(near_thousand(1533))\n",
    "print(near_thousand(534))\n",
    "print(near_thousand(1924))"
   ]
  },
  {
   "cell_type": "markdown",
   "metadata": {},
   "source": [
    "## 18. Write a Python program to calculate the sum of three given numbers, if the values are equal then return three times of their sum. \n",
    "\n",
    "**Personal Tags:\n",
    "`New Learning: No`, \n",
    "`Difficulty: 1`,\n",
    "`See again: Yes`**"
   ]
  },
  {
   "cell_type": "code",
   "execution_count": 18,
   "metadata": {},
   "outputs": [
    {
     "name": "stdout",
     "output_type": "stream",
     "text": [
      "First Number: 3\n",
      "Second Number: 3\n",
      "Third Number: 3\n"
     ]
    },
    {
     "data": {
      "text/plain": [
       "27"
      ]
     },
     "execution_count": 18,
     "metadata": {},
     "output_type": "execute_result"
    }
   ],
   "source": [
    "# Solution 1:\n",
    "\n",
    "n1 = int(input('First Number: '))\n",
    "n2 = int(input('Second Number: '))\n",
    "n3 = int(input('Third Number: '))\n",
    "\n",
    "def sum_calc():\n",
    "    if (n1 == n2 == n3):\n",
    "        return 3*(n1 + n2 + n3)\n",
    "    else:\n",
    "        return n1 + n2 + n3\n",
    "\n",
    "sum_calc()"
   ]
  },
  {
   "cell_type": "code",
   "execution_count": 19,
   "metadata": {},
   "outputs": [
    {
     "name": "stdout",
     "output_type": "stream",
     "text": [
      "First Number: 1\n",
      "Second Number: 2\n",
      "Third Number: 3\n"
     ]
    },
    {
     "data": {
      "text/plain": [
       "6"
      ]
     },
     "execution_count": 19,
     "metadata": {},
     "output_type": "execute_result"
    }
   ],
   "source": [
    "# Solution 2:\n",
    "\n",
    "def sum_calc(n1, n2, n3):\n",
    "    if (n1 == n2 == n3):\n",
    "        return 3*(n1 + n2 + n3)\n",
    "    else:\n",
    "        return n1 + n2 + n3\n",
    "\n",
    "n1 = int(input('First Number: '))\n",
    "n2 = int(input('Second Number: '))\n",
    "n3 = int(input('Third Number: '))\n",
    "sum_calc(n1, n2, n3)"
   ]
  },
  {
   "cell_type": "markdown",
   "metadata": {},
   "source": [
    "## 19. Write a Python program to get a new string from a given string where \"Is\" has been added to the front. If the given string already begins with \"Is\" then return the string unchanged.\n",
    "\n",
    "**Personal Tags:\n",
    "`New Learning: Yes`, \n",
    "`Difficulty: 2`,\n",
    "`See again: Yes`**"
   ]
  },
  {
   "cell_type": "code",
   "execution_count": 20,
   "metadata": {},
   "outputs": [
    {
     "name": "stdout",
     "output_type": "stream",
     "text": [
      "Enter a string: Array\n",
      "IsArray\n"
     ]
    }
   ],
   "source": [
    "# Solution 1:\n",
    "\n",
    "s = input('Enter a string: ')\n",
    "\n",
    "if len(s) >= 2 and s[:2] == 'Is':\n",
    "    print(s)\n",
    "else:\n",
    "    print('Is'+s)"
   ]
  },
  {
   "cell_type": "code",
   "execution_count": 21,
   "metadata": {},
   "outputs": [
    {
     "name": "stdout",
     "output_type": "stream",
     "text": [
      "Is\n",
      "IsI\n",
      "IsNum\n",
      "IsNum\n"
     ]
    }
   ],
   "source": [
    "# Solution 2:\n",
    "\n",
    "def new_string(s):\n",
    "    if len(s) >= 2 and s[:2] == 'Is':\n",
    "        return s\n",
    "    return 'Is' + s\n",
    "\n",
    "print(new_string('Is'))\n",
    "print(new_string('I'))\n",
    "print(new_string('IsNum'))\n",
    "print(new_string('Num'))"
   ]
  },
  {
   "cell_type": "markdown",
   "metadata": {},
   "source": [
    "## 20. Write a Python program to get a string which is n (non-negative integer) copies of a given string.\n",
    "\n",
    "**Personal Tags:\n",
    "`New Learning: Yes`, \n",
    "`Difficulty: 2`,\n",
    "`See again: Yes`**"
   ]
  },
  {
   "cell_type": "code",
   "execution_count": 22,
   "metadata": {},
   "outputs": [
    {
     "name": "stdout",
     "output_type": "stream",
     "text": [
      "Enter a string: .test\n",
      "Enter the number of copies you want: 3\n",
      ".test.test.test\n"
     ]
    }
   ],
   "source": [
    "# Solution 1:\n",
    "\n",
    "string = input('Enter a string: ')\n",
    "n = int(input('Enter the number of copies you want: '))\n",
    "\n",
    "print(string * n)"
   ]
  },
  {
   "cell_type": "code",
   "execution_count": 23,
   "metadata": {},
   "outputs": [
    {
     "name": "stdout",
     "output_type": "stream",
     "text": [
      "Enter a string: ybg\n",
      "Enter the number of copies you want: 3\n",
      "ybgybgybg\n",
      ".py.py.py.py.py\n",
      "345345345345\n"
     ]
    }
   ],
   "source": [
    "# Solution 2:\n",
    "\n",
    "def str_enlarger(string, n):\n",
    "    return string * n\n",
    "\n",
    "string = input('Enter a string: ')\n",
    "n = int(input('Enter the number of copies you want: '))\n",
    "\n",
    "print(str_enlarger(string, n))\n",
    "print(str_enlarger('.py', 5))\n",
    "print(str_enlarger('345', 4))"
   ]
  },
  {
   "cell_type": "markdown",
   "metadata": {},
   "source": [
    "## 21. Write a Python program to find whether a given number (accept from the user) is even or odd, print out an appropriate message to the user.\n",
    "\n",
    "**Personal Tags:\n",
    "`New Learning: No`, \n",
    "`Difficulty: 1`,\n",
    "`See again: No`**"
   ]
  },
  {
   "cell_type": "code",
   "execution_count": 24,
   "metadata": {},
   "outputs": [
    {
     "name": "stdout",
     "output_type": "stream",
     "text": [
      "Enter a number: 4\n",
      "The entered number is even\n"
     ]
    }
   ],
   "source": [
    "num = int(input('Enter a number: '))\n",
    "\n",
    "if num % 2 == 0:\n",
    "    print('The entered number is even')\n",
    "else:\n",
    "    print('The entered number is odd')"
   ]
  },
  {
   "cell_type": "markdown",
   "metadata": {},
   "source": [
    "## 22. Write a Python program to count the number 4 in a given list.\n",
    "\n",
    "**Personal Tags:\n",
    "`New Learning: No`, \n",
    "`Difficulty: 1`,\n",
    "`See again: No`**"
   ]
  },
  {
   "cell_type": "code",
   "execution_count": 25,
   "metadata": {},
   "outputs": [
    {
     "name": "stdout",
     "output_type": "stream",
     "text": [
      "2\n"
     ]
    }
   ],
   "source": [
    "l = [1, 4, 6, 7, 4]\n",
    "count = 0\n",
    "\n",
    "for i in l:\n",
    "    if i == 4:\n",
    "        count += 1\n",
    "\n",
    "print(count)"
   ]
  },
  {
   "cell_type": "markdown",
   "metadata": {},
   "source": [
    "## 23. Write a Python program to get the n (non-negative integer) copies of the first 2 characters of a given string. Return the n copies of the whole string if the length is less than 2.\n",
    "\n",
    "**Personal Tags:\n",
    "`New Learning: No`, \n",
    "`Difficulty: 2`,\n",
    "`See again: Yes`**"
   ]
  },
  {
   "cell_type": "code",
   "execution_count": 26,
   "metadata": {},
   "outputs": [
    {
     "name": "stdout",
     "output_type": "stream",
     "text": [
      "ppp\n",
      "abab\n"
     ]
    }
   ],
   "source": [
    "def n_copy(s, n):\n",
    "    if len(s) < 2:\n",
    "        return s * n\n",
    "    \n",
    "    else:\n",
    "        substr = s[:2]\n",
    "        return substr * n\n",
    "    \n",
    "print(n_copy('p', 3))\n",
    "print(n_copy('abcde', 2))"
   ]
  },
  {
   "cell_type": "markdown",
   "metadata": {},
   "source": [
    "## 24. Write a Python program to test whether a passed letter is a vowel or not.\n",
    "\n",
    "**Personal Tags:\n",
    "`New Learning: No`, \n",
    "`Difficulty: 1`,\n",
    "`See again: No`**"
   ]
  },
  {
   "cell_type": "code",
   "execution_count": 27,
   "metadata": {},
   "outputs": [
    {
     "name": "stdout",
     "output_type": "stream",
     "text": [
      "True\n",
      "True\n",
      "False\n",
      "False\n"
     ]
    }
   ],
   "source": [
    "def is_vowel(letter):\n",
    "    if letter in 'aeiouAEIOU':\n",
    "        return True\n",
    "    else:\n",
    "        return False\n",
    "    \n",
    "print(is_vowel('O'))\n",
    "print(is_vowel('i'))\n",
    "print(is_vowel('m'))\n",
    "print(is_vowel('F'))"
   ]
  },
  {
   "cell_type": "markdown",
   "metadata": {},
   "source": [
    "## 25. Write a Python program to check whether a specified value is contained in a group of values.\n",
    "\n",
    "**Personal Tags:\n",
    "`New Learning: No`, \n",
    "`Difficulty: 1`,\n",
    "`See again: No`**"
   ]
  },
  {
   "cell_type": "code",
   "execution_count": 28,
   "metadata": {},
   "outputs": [
    {
     "name": "stdout",
     "output_type": "stream",
     "text": [
      "True\n",
      "False\n"
     ]
    }
   ],
   "source": [
    "def check(values, number):\n",
    "    if number in values:\n",
    "        return True\n",
    "    return False\n",
    "    \n",
    "print(check([1, 5, 8, 3], 3))\n",
    "print(check([1, 5, 8, 3], -1))"
   ]
  },
  {
   "cell_type": "markdown",
   "metadata": {},
   "source": [
    "## 26. Write a Python program to create a histogram from a given list of integers.\n",
    "\n",
    "**Personal Tags:\n",
    "`New Learning: Yes`, \n",
    "`Difficulty: 2`,\n",
    "`See again: Yes`**"
   ]
  },
  {
   "cell_type": "code",
   "execution_count": 29,
   "metadata": {},
   "outputs": [
    {
     "name": "stdout",
     "output_type": "stream",
     "text": [
      "$$\n",
      "$$$\n",
      "$$$$$$\n",
      "$$$$$\n"
     ]
    }
   ],
   "source": [
    "def hist(format):\n",
    "    char = '$'\n",
    "    for i in format:\n",
    "        print(char * i)\n",
    "        \n",
    "hist([2, 3, 6, 5])"
   ]
  },
  {
   "cell_type": "markdown",
   "metadata": {},
   "source": [
    "## 27. Write a Python program to concatenate all elements in a list into a string and return it.\n",
    "\n",
    "**Personal Tags:\n",
    "`New Learning: Yes`, \n",
    "`Difficulty: 2`,\n",
    "`See again: Yes`**"
   ]
  },
  {
   "cell_type": "code",
   "execution_count": 30,
   "metadata": {},
   "outputs": [
    {
     "data": {
      "text/plain": [
       "'15122'"
      ]
     },
     "execution_count": 30,
     "metadata": {},
     "output_type": "execute_result"
    }
   ],
   "source": [
    "def list_to_str(l):\n",
    "    s = ''\n",
    "    for i in l:\n",
    "        s += str(i)\n",
    "    return s\n",
    "        \n",
    "list_to_str([1, 5, 12, 2])"
   ]
  },
  {
   "cell_type": "markdown",
   "metadata": {},
   "source": [
    "## 28. Write a Python program to print all even numbers from a given numbers list in the same order and stop the printing if any numbers that come after 237 in the sequence.\n",
    "\n",
    "**Personal Tags:\n",
    "`New Learning: No`, \n",
    "`Difficulty: 2`,\n",
    "`See again: No`**"
   ]
  },
  {
   "cell_type": "code",
   "execution_count": 31,
   "metadata": {},
   "outputs": [
    {
     "name": "stdout",
     "output_type": "stream",
     "text": [
      "386\n",
      "462\n",
      "418\n",
      "344\n",
      "236\n",
      "566\n",
      "978\n",
      "328\n",
      "162\n",
      "758\n",
      "918\n",
      "237\n"
     ]
    }
   ],
   "source": [
    "numbers = [    \n",
    "    386, 462, 47, 418, 907, 344, 236, 375, 823, 566, 597, 978, 328, 615, 953, 345, \n",
    "    399, 162, 758, 219, 918, 237, 412, 566, 826, 248, 866, 950, 626, 949, 687, 217, \n",
    "    815, 67, 104, 58, 512, 24, 892, 894, 767, 553, 81, 379, 843, 831, 445, 742, 717, \n",
    "    958,743, 527\n",
    "    ]\n",
    "\n",
    "# numbers = tuple(numbers)     # No need of converting into tuple.\n",
    "\n",
    "for i in numbers:\n",
    "    if i == 237: \n",
    "        print(i)\n",
    "        break\n",
    "    elif i % 2 == 0:\n",
    "        print(i)"
   ]
  },
  {
   "cell_type": "markdown",
   "metadata": {},
   "source": [
    "## 29. Write a Python program to print out a set containing all the colors from color_list_1 which are not present in color_list_2. \n",
    "\n",
    "**Personal Tags:\n",
    "`New Learning: Yes`, \n",
    "`Difficulty: 1`,\n",
    "`See again: No`**"
   ]
  },
  {
   "cell_type": "code",
   "execution_count": 32,
   "metadata": {},
   "outputs": [
    {
     "data": {
      "text/plain": [
       "{'Black', 'White'}"
      ]
     },
     "execution_count": 32,
     "metadata": {},
     "output_type": "execute_result"
    }
   ],
   "source": [
    "color_list_1 = set([\"White\", \"Black\", \"Red\"])\n",
    "color_list_2 = set([\"Red\", \"Green\"])\n",
    "\n",
    "color_list_1.difference(color_list_2)"
   ]
  },
  {
   "cell_type": "markdown",
   "metadata": {},
   "source": [
    "## 30. Write a Python program that will accept the base and height of a triangle and compute the area.\n",
    "\n",
    "**Personal Tags:\n",
    "`New Learning: No`, \n",
    "`Difficulty: 1`,\n",
    "`See again: No`**"
   ]
  },
  {
   "cell_type": "code",
   "execution_count": 33,
   "metadata": {},
   "outputs": [
    {
     "name": "stdout",
     "output_type": "stream",
     "text": [
      "Triangle Area: 400.0\n"
     ]
    }
   ],
   "source": [
    "def triangle_area(base, height):\n",
    "    return (.5 * base * height)\n",
    "\n",
    "print('Triangle Area:', triangle_area(20, 40))"
   ]
  },
  {
   "cell_type": "markdown",
   "metadata": {},
   "source": [
    "## 31. Write a Python program to compute the greatest common divisor (GCD) of two positive integers.\n",
    "\n",
    "**Personal Tags:\n",
    "`New Learning: Yes`, \n",
    "`Difficulty: 2`,\n",
    "`See again: Yes`**"
   ]
  },
  {
   "cell_type": "code",
   "execution_count": 34,
   "metadata": {},
   "outputs": [
    {
     "name": "stdout",
     "output_type": "stream",
     "text": [
      "1\n",
      "2\n"
     ]
    }
   ],
   "source": [
    "def gcd(x, y):\n",
    "    gcd = 1\n",
    "    \n",
    "    if x % y == 0:\n",
    "        return y\n",
    "    \n",
    "    for k in range(int(y/2), 0, -1):\n",
    "        if x % k == 0 and y % k == 0:\n",
    "            gcd = k\n",
    "            break\n",
    "    return gcd\n",
    "\n",
    "print(gcd(12, 17))\n",
    "print(gcd(4, 6))"
   ]
  },
  {
   "cell_type": "markdown",
   "metadata": {},
   "source": [
    "## 32. Write a Python program to get the least common multiple (LCM) of two positive integers.\n",
    "\n",
    "**Personal Tags:\n",
    "`New Learning: Yes`, \n",
    "`Difficulty: 2`,\n",
    "`See again: Yes`**"
   ]
  },
  {
   "cell_type": "code",
   "execution_count": 35,
   "metadata": {},
   "outputs": [
    {
     "name": "stdout",
     "output_type": "stream",
     "text": [
      "12\n",
      "255\n"
     ]
    }
   ],
   "source": [
    "def lcm(x, y):\n",
    "    if x > y:\n",
    "        z = x\n",
    "    else:\n",
    "        z = y\n",
    "        \n",
    "    while(True):\n",
    "        if z % x == 0 and z % y == 0:\n",
    "            lcm = z\n",
    "            break\n",
    "        z += 1\n",
    "    return lcm    \n",
    "\n",
    "print(lcm(4, 6))\n",
    "print(lcm(15, 17))"
   ]
  },
  {
   "cell_type": "markdown",
   "metadata": {},
   "source": [
    "## 33. Write a Python program to sum of three given integers. However, if two values are equal sum will be zero."
   ]
  },
  {
   "cell_type": "code",
   "execution_count": 36,
   "metadata": {},
   "outputs": [
    {
     "name": "stdout",
     "output_type": "stream",
     "text": [
      "0\n",
      "0\n",
      "0\n",
      "6\n"
     ]
    }
   ],
   "source": [
    "def sum_3(x, y, z):\n",
    "    sum = 0\n",
    "    if x == y or y == z or z == x:\n",
    "        return sum\n",
    "    \n",
    "    else:\n",
    "        sum = x + y + z\n",
    "        return sum\n",
    "    \n",
    "print(sum_3(2, 1, 2))\n",
    "print(sum_3(3, 2, 2))\n",
    "print(sum_3(2, 2, 2))\n",
    "print(sum_3(1, 2, 3))"
   ]
  },
  {
   "cell_type": "markdown",
   "metadata": {},
   "source": [
    "## 34. Write a Python program to sum of two given integers. However, if the sum is between 15 to 20 it will return 20."
   ]
  },
  {
   "cell_type": "code",
   "execution_count": 37,
   "metadata": {},
   "outputs": [
    {
     "name": "stdout",
     "output_type": "stream",
     "text": [
      "20\n",
      "22\n",
      "12\n"
     ]
    }
   ],
   "source": [
    "def sum_2(a, b):\n",
    "    sum = a + b\n",
    "    \n",
    "    if sum >= 15 and sum <= 20:\n",
    "        sum = 20\n",
    "        return sum\n",
    "    \n",
    "    else:\n",
    "        return sum\n",
    "    \n",
    "print(sum_2(10, 6))\n",
    "print(sum_2(10, 12))\n",
    "print(sum_2(10, 2))"
   ]
  },
  {
   "cell_type": "markdown",
   "metadata": {},
   "source": [
    "## 35. Write a Python program that will return true if the two given integer values are equal or their sum or difference is 5."
   ]
  },
  {
   "cell_type": "code",
   "execution_count": 38,
   "metadata": {},
   "outputs": [
    {
     "name": "stdout",
     "output_type": "stream",
     "text": [
      "True\n",
      "True\n",
      "True\n",
      "False\n"
     ]
    }
   ],
   "source": [
    "def test(a, b):\n",
    "    if (a == b) or (a + b == 5) or (abs(a - b) == 5):\n",
    "        return True\n",
    "    return False\n",
    "\n",
    "print(test(7, 2))\n",
    "print(test(3, 2))\n",
    "print(test(2, 2))\n",
    "print(test(3, 4))"
   ]
  },
  {
   "cell_type": "markdown",
   "metadata": {},
   "source": [
    "## 36. Write a Python program to add two objects if both objects are an integer type."
   ]
  },
  {
   "cell_type": "code",
   "execution_count": 39,
   "metadata": {},
   "outputs": [
    {
     "name": "stdout",
     "output_type": "stream",
     "text": [
      "15\n"
     ]
    }
   ],
   "source": [
    "# Solution 1: Need to verify whether except works fine or not:\n",
    "\n",
    "def integer_add(a, b):\n",
    "    try:\n",
    "        if type(a) == int and type(b) == int:\n",
    "            sum = a + b\n",
    "            print(sum)\n",
    "    except:\n",
    "        raise TypeError(\"Inputs must be integers\")\n",
    "        \n",
    "integer_add(7, 8)"
   ]
  },
  {
   "cell_type": "code",
   "execution_count": 40,
   "metadata": {},
   "outputs": [
    {
     "data": {
      "text/plain": [
       "9"
      ]
     },
     "execution_count": 40,
     "metadata": {},
     "output_type": "execute_result"
    }
   ],
   "source": [
    "# Solution 2:\n",
    "\n",
    "def integer_add2(a, b):\n",
    "    if isinstance(a, int) and isinstance(b, int):\n",
    "        return a + b\n",
    "    else:\n",
    "        raise TypeError('Inputs must be of integer type')\n",
    "        \n",
    "integer_add2(4, 5)"
   ]
  },
  {
   "cell_type": "markdown",
   "metadata": {},
   "source": [
    "## 37. Write a Python program to display your details like name, age, address in three different lines."
   ]
  },
  {
   "cell_type": "code",
   "execution_count": 41,
   "metadata": {},
   "outputs": [
    {
     "name": "stdout",
     "output_type": "stream",
     "text": [
      "My name is Mehedi.\n",
      "I am 24 years old.\n",
      "I live in Dhaka.\n"
     ]
    }
   ],
   "source": [
    "def personal_details(name, age, address):\n",
    "    print('My name is {}.\\nI am {} years old.\\nI live in {}.'.format(name, age, address))\n",
    "    \n",
    "personal_details('Mehedi', 24, 'Dhaka')"
   ]
  },
  {
   "cell_type": "markdown",
   "metadata": {},
   "source": [
    "## 38. Write a Python program to solve (x + y) * (x + y)."
   ]
  },
  {
   "cell_type": "code",
   "execution_count": 42,
   "metadata": {},
   "outputs": [
    {
     "name": "stdout",
     "output_type": "stream",
     "text": [
      "(4 + 3 = 49)\n"
     ]
    }
   ],
   "source": [
    "x, y = 4, 3\n",
    "def solve(x, y):\n",
    "    return (x + y) * (x + y)\n",
    "\n",
    "print('({} + {} = {})'.format(x, y, solve(x, y)))"
   ]
  },
  {
   "cell_type": "markdown",
   "metadata": {},
   "source": [
    "## 39. Write a Python program to compute the future value of a specified principal amount, rate of interest, and a number of years."
   ]
  },
  {
   "cell_type": "code",
   "execution_count": 43,
   "metadata": {},
   "outputs": [
    {
     "data": {
      "text/plain": [
       "12722.79"
      ]
     },
     "execution_count": 43,
     "metadata": {},
     "output_type": "execute_result"
    }
   ],
   "source": [
    "def future_amount(p, r, n):\n",
    "    return p * (1 + r/100)**n\n",
    "\n",
    "round(future_amount(10000, 3.5, 7), 2)"
   ]
  },
  {
   "cell_type": "markdown",
   "metadata": {},
   "source": [
    "## 40. Write a Python program to compute the distance between the points (x1, y1) and (x2, y2)."
   ]
  },
  {
   "cell_type": "code",
   "execution_count": 44,
   "metadata": {},
   "outputs": [
    {
     "data": {
      "text/plain": [
       "6.324555320336759"
      ]
     },
     "execution_count": 44,
     "metadata": {},
     "output_type": "execute_result"
    }
   ],
   "source": [
    "import math\n",
    "p1 = [4, 0]\n",
    "p2 = [6, 6]\n",
    "\n",
    "def distance(p1, p2):\n",
    "    return math.sqrt((p1[0] - p2[0])**2 + (p1[1] - p2[1])**2)\n",
    "    \n",
    "distance(p1, p2)"
   ]
  },
  {
   "cell_type": "markdown",
   "metadata": {},
   "source": [
    "## 41. Write a Python program to check whether a file exists."
   ]
  },
  {
   "cell_type": "code",
   "execution_count": 45,
   "metadata": {},
   "outputs": [
    {
     "data": {
      "text/plain": [
       "True"
      ]
     },
     "execution_count": 45,
     "metadata": {},
     "output_type": "execute_result"
    }
   ],
   "source": [
    "import os.path\n",
    "\n",
    "open('file_41.txt', 'w')\n",
    "os.path.isfile('file_41.txt')"
   ]
  },
  {
   "cell_type": "markdown",
   "metadata": {},
   "source": [
    "## 42. Write a Python program to determine if a Python shell is executing in 32bit or 64bit mode on OS."
   ]
  },
  {
   "cell_type": "code",
   "execution_count": 46,
   "metadata": {},
   "outputs": [
    {
     "data": {
      "text/plain": [
       "64"
      ]
     },
     "execution_count": 46,
     "metadata": {},
     "output_type": "execute_result"
    }
   ],
   "source": [
    "# For 32 bit it will return 32 and for 64 bit it will return 64\n",
    "import struct\n",
    "struct.calcsize('P') * 8\n"
   ]
  },
  {
   "cell_type": "markdown",
   "metadata": {},
   "source": [
    "#### Why char 'P'?\n",
    "\n",
    "`struct` is a module for packing and unpacking data to and from C representations. `P` represents void * (a generic pointer). On 32-bit systems a pointer is 4 bytes, and on a 64-bit system a pointer requires 8 bytes. \n",
    "\n",
    "`struct.calcsize('P')` calculates the number of bytes required to store a single pointer --> returning 4 on a 32-bit system and 8 on a 64-bit system."
   ]
  },
  {
   "cell_type": "markdown",
   "metadata": {},
   "source": [
    "## 43. Write a Python program to get OS name, platform and release information."
   ]
  },
  {
   "cell_type": "code",
   "execution_count": 47,
   "metadata": {},
   "outputs": [
    {
     "name": "stdout",
     "output_type": "stream",
     "text": [
      "nt\n",
      "Windows\n",
      "10\n"
     ]
    }
   ],
   "source": [
    "import os, platform\n",
    "\n",
    "print(os.name)\n",
    "print(platform.system())\n",
    "print(platform.release())"
   ]
  },
  {
   "cell_type": "markdown",
   "metadata": {},
   "source": [
    "## 44. Write a Python program to locate Python site-packages."
   ]
  },
  {
   "cell_type": "code",
   "execution_count": 48,
   "metadata": {},
   "outputs": [
    {
     "data": {
      "text/plain": [
       "['C:\\\\ProgramData\\\\Anaconda3',\n",
       " 'C:\\\\ProgramData\\\\Anaconda3\\\\lib\\\\site-packages']"
      ]
     },
     "execution_count": 48,
     "metadata": {},
     "output_type": "execute_result"
    }
   ],
   "source": [
    "import site\n",
    "\n",
    "site.getsitepackages()"
   ]
  },
  {
   "cell_type": "markdown",
   "metadata": {},
   "source": [
    "## 45. Write a python program to call an external command in Python. "
   ]
  },
  {
   "cell_type": "code",
   "execution_count": 49,
   "metadata": {},
   "outputs": [
    {
     "data": {
      "text/plain": [
       "0"
      ]
     },
     "execution_count": 49,
     "metadata": {},
     "output_type": "execute_result"
    }
   ],
   "source": [
    "from subprocess import call\n",
    "\n",
    "call(['ls', '-l'])"
   ]
  },
  {
   "cell_type": "markdown",
   "metadata": {},
   "source": [
    "## 46. Write a python program to get the path and name of the file that is currently executing."
   ]
  },
  {
   "cell_type": "code",
   "execution_count": 50,
   "metadata": {},
   "outputs": [
    {
     "data": {
      "text/plain": [
       "'D:\\\\Personal\\\\Documents\\\\file_41.txt'"
      ]
     },
     "execution_count": 50,
     "metadata": {},
     "output_type": "execute_result"
    }
   ],
   "source": [
    "import os\n",
    "\n",
    "os.path.realpath('file_41.txt')"
   ]
  },
  {
   "cell_type": "markdown",
   "metadata": {},
   "source": [
    "## 47. Write a Python program to find out the number of CPUs using."
   ]
  },
  {
   "cell_type": "code",
   "execution_count": 51,
   "metadata": {},
   "outputs": [
    {
     "data": {
      "text/plain": [
       "4"
      ]
     },
     "execution_count": 51,
     "metadata": {},
     "output_type": "execute_result"
    }
   ],
   "source": [
    "import multiprocessing\n",
    "\n",
    "multiprocessing.cpu_count()"
   ]
  },
  {
   "cell_type": "markdown",
   "metadata": {},
   "source": [
    "## 48. Write a Python program to parse a string to Float or Integer."
   ]
  },
  {
   "cell_type": "code",
   "execution_count": 52,
   "metadata": {},
   "outputs": [
    {
     "name": "stdout",
     "output_type": "stream",
     "text": [
      "<class 'float'>\n",
      "<class 'int'>\n"
     ]
    }
   ],
   "source": [
    "s = '3.45'\n",
    "\n",
    "str_to_float = float(s)\n",
    "# str_to_int = int(s)      # We need to convert the string into float first. Otherwise it will raise 'ValueError'\n",
    "str_to_int = int(float(s))\n",
    "\n",
    "print(type(str_to_float))\n",
    "print(type(str_to_int))"
   ]
  },
  {
   "cell_type": "markdown",
   "metadata": {},
   "source": [
    "## 49. Write a Python program to list all files in a directory in Python."
   ]
  },
  {
   "cell_type": "code",
   "execution_count": 57,
   "metadata": {},
   "outputs": [
    {
     "name": "stdout",
     "output_type": "stream",
     "text": [
      "['FB Cache Analysis 01102019_F.xlsx']\n"
     ]
    }
   ],
   "source": [
    "from os import listdir\n",
    "from os.path import isfile, join\n",
    "\n",
    "files_list = [f for f in listdir('D:\\SCL\\Files') if isfile(join('D:\\SCL\\Files', f))]\n",
    "print(files_list)"
   ]
  },
  {
   "cell_type": "markdown",
   "metadata": {},
   "source": [
    "## 50. Write a Python program to print without newline or space."
   ]
  },
  {
   "cell_type": "code",
   "execution_count": 58,
   "metadata": {},
   "outputs": [
    {
     "name": "stdout",
     "output_type": "stream",
     "text": [
      "**********"
     ]
    }
   ],
   "source": [
    "for i in range(10):\n",
    "    print('*', end = '')"
   ]
  },
  {
   "cell_type": "markdown",
   "metadata": {},
   "source": [
    "## 51. Write a Python program to determine profiling of Python programs. \n",
    "\n",
    "**Note**: A profile is a set of statistics that describes how often and for how long various parts of the program executed. \n",
    "\n",
    "These statistics can be formatted into reports via the `pstats` module."
   ]
  },
  {
   "cell_type": "code",
   "execution_count": 59,
   "metadata": {},
   "outputs": [
    {
     "name": "stdout",
     "output_type": "stream",
     "text": [
      "3\n",
      "         39 function calls in 0.001 seconds\n",
      "\n",
      "   Ordered by: standard name\n",
      "\n",
      "   ncalls  tottime  percall  cumtime  percall filename:lineno(function)\n",
      "        1    0.000    0.000    0.001    0.001 <ipython-input-59-db9a768acbc0>:3(sum)\n",
      "        1    0.000    0.000    0.001    0.001 <string>:1(<module>)\n",
      "        3    0.000    0.000    0.001    0.000 iostream.py:195(schedule)\n",
      "        2    0.000    0.000    0.000    0.000 iostream.py:307(_is_master_process)\n",
      "        2    0.000    0.000    0.000    0.000 iostream.py:320(_schedule_flush)\n",
      "        2    0.000    0.000    0.001    0.001 iostream.py:382(write)\n",
      "        3    0.000    0.000    0.000    0.000 iostream.py:93(_event_pipe)\n",
      "        3    0.001    0.000    0.001    0.000 socket.py:337(send)\n",
      "        3    0.000    0.000    0.000    0.000 threading.py:1038(_wait_for_tstate_lock)\n",
      "        3    0.000    0.000    0.000    0.000 threading.py:1080(is_alive)\n",
      "        3    0.000    0.000    0.000    0.000 threading.py:507(is_set)\n",
      "        1    0.000    0.000    0.001    0.001 {built-in method builtins.exec}\n",
      "        2    0.000    0.000    0.000    0.000 {built-in method builtins.isinstance}\n",
      "        1    0.000    0.000    0.001    0.001 {built-in method builtins.print}\n",
      "        2    0.000    0.000    0.000    0.000 {built-in method nt.getpid}\n",
      "        3    0.000    0.000    0.000    0.000 {method 'acquire' of '_thread.lock' objects}\n",
      "        3    0.000    0.000    0.000    0.000 {method 'append' of 'collections.deque' objects}\n",
      "        1    0.000    0.000    0.000    0.000 {method 'disable' of '_lsprof.Profiler' objects}\n",
      "\n",
      "\n"
     ]
    }
   ],
   "source": [
    "import cProfile\n",
    "\n",
    "def sum():\n",
    "    print(1 + 2)\n",
    "    \n",
    "cProfile.run('sum()')"
   ]
  },
  {
   "cell_type": "markdown",
   "metadata": {},
   "source": [
    "## 52. Write a Python program to print to stderr.\n",
    "---\n",
    "File objects used by the interpreter for standard input, output and errors:\n",
    "\n",
    "*sys.stdin*  \n",
    "*sys.stdout*  \n",
    "*sys.stderr*   \n",
    "\n",
    "- stdin is used for **all interactive input** (including calls to input());\n",
    "\n",
    "- stdout is used for the output of **print()** and expression statements and for the **prompts of input()**;\n",
    "\n",
    "- The **interpreter’s own prompts** and its **error messages** go to stderr.\n",
    "\n",
    "\n",
    "Ref: [https://stackoverflow.com/questions/14555402/understanding-stdin-stdout-stderr](https://stackoverflow.com/questions/14555402/understanding-stdin-stdout-stderr)"
   ]
  },
  {
   "cell_type": "code",
   "execution_count": 60,
   "metadata": {},
   "outputs": [
    {
     "name": "stderr",
     "output_type": "stream",
     "text": [
      "abc--efg--xyz\n"
     ]
    }
   ],
   "source": [
    "from __future__ import print_function\n",
    "import sys\n",
    "\n",
    "def eprint(*args, **kwargs):\n",
    "    print(*args, file = sys.stderr, **kwargs)\n",
    "    \n",
    "eprint('abc', 'efg', 'xyz', sep = '--')"
   ]
  },
  {
   "cell_type": "markdown",
   "metadata": {},
   "source": [
    "## 53. Write a python program to access environment variables."
   ]
  },
  {
   "cell_type": "code",
   "execution_count": 61,
   "metadata": {},
   "outputs": [
    {
     "name": "stdout",
     "output_type": "stream",
     "text": [
      "*-----------------------------------------------------------------*\n",
      "environ({'ALIASES': 'D:\\\\Software\\\\Cmder\\\\cmder\\\\config\\\\user_aliases.cmd', 'ALLUSERSPROFILE': 'C:\\\\ProgramData', 'ANSICON': '101x1000 (101x20)', 'ANSICON_DEF': '7', 'APPDATA': 'C:\\\\Users\\\\mehedi.farazi\\\\AppData\\\\Roaming', 'ARCHITECTURE': '64', 'ARCHITECTURE_BITS': '64', 'CCALL': 'call D:\\\\Software\\\\Cmder\\\\cmder\\\\vendor\\\\bin\\\\cexec.cmd', 'CEXEC': 'D:\\\\Software\\\\Cmder\\\\cmder\\\\vendor\\\\bin\\\\cexec.cmd', 'CMDER_ALIASES': '1', 'CMDER_CLINK': '1', 'CMDER_CONFIGURED': '1', 'CMDER_INIT_END': '17:09:07.48', 'CMDER_INIT_START': '17:09:06.06', 'CMDER_ROOT': 'D:\\\\Software\\\\Cmder\\\\cmder', 'CMDER_SHELL': 'cmd', 'CMDER_USER_FLAGS': ' ', 'COMMONPROGRAMFILES': 'C:\\\\Program Files\\\\Common Files', 'COMMONPROGRAMFILES(X86)': 'C:\\\\Program Files (x86)\\\\Common Files', 'COMMONPROGRAMW6432': 'C:\\\\Program Files\\\\Common Files', 'COMPUTERNAME': 'SCL-L200816', 'COMSPEC': 'C:\\\\WINDOWS\\\\system32\\\\cmd.exe', 'CONEMUANSI': 'ON', 'CONEMUANSILOG': '', 'CONEMUBACKHWND': '0x00020382', 'CONEMUBASEDIR': 'D:\\\\Software\\\\Cmder\\\\cmder\\\\vendor\\\\conemu-maximus5\\\\ConEmu', 'CONEMUBASEDIRSHORT': 'D:\\\\Software\\\\Cmder\\\\cmder\\\\vendor\\\\conemu-maximus5\\\\ConEmu', 'CONEMUBUILD': '180626', 'CONEMUDIR': 'D:\\\\Software\\\\Cmder\\\\cmder\\\\vendor\\\\conemu-maximus5', 'CONEMUDRAWHWND': '0x00060376', 'CONEMUDRIVE': 'D:', 'CONEMUHOOKS': 'Enabled', 'CONEMUHWND': '0x00090372', 'CONEMUISADMIN': 'ADMIN', 'CONEMUPALETTE': 'Monokai', 'CONEMUPID': '10284', 'CONEMUSERVERPID': '6604', 'CONEMUTASK': '{cmd::Cmder}', 'CONEMUWORKDIR': 'D:\\\\Personal\\\\Documents', 'CONEMUWORKDRIVE': 'D:', 'DEBUG_OUTPUT': '0', 'DRIVERDATA': 'C:\\\\Windows\\\\System32\\\\Drivers\\\\DriverData', 'FAST_INIT': '0', 'FEFLAGNAME': ' ', 'GIT_INSTALL_ROOT': 'D:\\\\Software\\\\Cmder\\\\cmder\\\\vendor\\\\git-for-windows', 'HOME': 'C:\\\\Users\\\\mehedi.farazi', 'HOMEDRIVE': 'C:', 'HOMEPATH': '\\\\Users\\\\mehedi.farazi', 'LANG': 'en_US.UTF-8', 'LIB_BASE': 'call \"D:\\\\Software\\\\Cmder\\\\cmder\\\\vendor\\\\lib\\\\lib_base.cmd\"', 'LIB_CONSOLE': 'call \"D:\\\\Software\\\\Cmder\\\\cmder\\\\vendor\\\\lib\\\\lib_console.cmd\"', 'LIB_GIT': 'call \"D:\\\\Software\\\\Cmder\\\\cmder\\\\vendor\\\\lib\\\\lib_git.cmd\"', 'LIB_PATH': 'call \"D:\\\\Software\\\\Cmder\\\\cmder\\\\vendor\\\\lib\\\\lib_path.cmd\"', 'LIB_PROFILE': 'call \"D:\\\\Software\\\\Cmder\\\\cmder\\\\vendor\\\\lib\\\\lib_profile.cmd\"', 'LOCALAPPDATA': 'C:\\\\Users\\\\mehedi.farazi\\\\AppData\\\\Local', 'LOGONSERVER': '\\\\\\\\DC02', 'MAX_DEPTH': '1', 'NIX_TOOLS': '1', 'NUMBER_OF_PROCESSORS': '4', 'ONEDRIVE': 'C:\\\\Users\\\\mehedi.farazi\\\\OneDrive', 'OS': 'Windows_NT', 'PATH': 'D:\\\\Software\\\\Cmder\\\\cmder\\\\bin;D:\\\\Software\\\\Cmder\\\\cmder\\\\vendor\\\\bin;D:\\\\Software\\\\Cmder\\\\cmder\\\\vendor\\\\conemu-maximus5\\\\ConEmu\\\\Scripts;D:\\\\Software\\\\Cmder\\\\cmder\\\\vendor\\\\conemu-maximus5;D:\\\\Software\\\\Cmder\\\\cmder\\\\vendor\\\\conemu-maximus5\\\\ConEmu;C:\\\\ProgramData\\\\Anaconda3;C:\\\\ProgramData\\\\Anaconda3\\\\Library\\\\mingw-w64\\\\bin;C:\\\\ProgramData\\\\Anaconda3\\\\Library\\\\usr\\\\bin;C:\\\\ProgramData\\\\Anaconda3\\\\Library\\\\bin;C:\\\\ProgramData\\\\Anaconda3\\\\Scripts;C:\\\\WINDOWS\\\\system32;C:\\\\WINDOWS;C:\\\\WINDOWS\\\\System32\\\\Wbem;C:\\\\WINDOWS\\\\System32\\\\WindowsPowerShell\\\\v1.0\\\\;C:\\\\WINDOWS\\\\System32\\\\OpenSSH\\\\;C:\\\\xampp\\\\php;C:\\\\composer;C:\\\\Users\\\\mehedi.farazi\\\\AppData\\\\Local\\\\Microsoft\\\\WindowsApps;C:\\\\Users\\\\mehedi.farazi\\\\AppData\\\\Roaming\\\\Composer\\\\vendor\\\\bin;D:\\\\Software\\\\Cmder\\\\cmder\\\\vendor\\\\git-for-windows\\\\cmd;D:\\\\Software\\\\Cmder\\\\cmder\\\\vendor\\\\git-for-windows\\\\mingw64\\\\bin;D:\\\\Software\\\\Cmder\\\\cmder\\\\vendor\\\\git-for-windows\\\\usr\\\\bin;D:\\\\Software\\\\Cmder\\\\cmder', 'PATHEXT': '.COM;.EXE;.BAT;.CMD;.VBS;.VBE;.JS;.JSE;.WSF;.WSH;.MSC', 'PLINK_PROTOCOL': 'ssh', 'PROCESSOR_ARCHITECTURE': 'AMD64', 'PROCESSOR_IDENTIFIER': 'Intel64 Family 6 Model 142 Stepping 10, GenuineIntel', 'PROCESSOR_LEVEL': '6', 'PROCESSOR_REVISION': '8e0a', 'PROGRAMDATA': 'C:\\\\ProgramData', 'PROGRAMFILES': 'C:\\\\Program Files', 'PROGRAMFILES(X86)': 'C:\\\\Program Files (x86)', 'PROGRAMW6432': 'C:\\\\Program Files', 'PROMPT': 'C\\x08L\\x08I\\x08N\\x08K\\x08 \\x08$P$G', 'PSMODULEPATH': 'C:\\\\Program Files\\\\WindowsPowerShell\\\\Modules;C:\\\\WINDOWS\\\\system32\\\\WindowsPowerShell\\\\v1.0\\\\Modules', 'PUBLIC': 'C:\\\\Users\\\\Public', 'SVN_SSH': 'D:\\\\\\\\Software\\\\\\\\Cmder\\\\\\\\cmder\\\\\\\\vendor\\\\\\\\git-for-windows\\\\\\\\bin\\\\\\\\ssh.exe', 'SYSTEMDRIVE': 'C:', 'SYSTEMROOT': 'C:\\\\WINDOWS', 'TEMP': 'C:\\\\Users\\\\MEHEDI~1.FAR\\\\AppData\\\\Local\\\\Temp', 'TERM': 'xterm-color', 'TIME_INIT': '0', 'TMP': 'C:\\\\Users\\\\MEHEDI~1.FAR\\\\AppData\\\\Local\\\\Temp', 'USERDNSDOMAIN': 'SUMMITCOMMUNICATIONS.NET', 'USERDOMAIN': 'SUMMITCOMMUNICA', 'USERDOMAIN_ROAMINGPROFILE': 'SUMMITCOMMUNICA', 'USERNAME': 'mehedi.farazi', 'USERPROFILE': 'C:\\\\Users\\\\mehedi.farazi', 'USER_ALIASES': 'D:\\\\Software\\\\Cmder\\\\cmder\\\\config\\\\user_aliases.cmd', 'VERBOSE_OUTPUT': '0', 'WINDIR': 'C:\\\\WINDOWS', '__COMPAT_LAYER': 'Installer', 'KERNEL_LAUNCH_TIMEOUT': '40', 'JPY_INTERRUPT_EVENT': '2424', 'IPY_INTERRUPT_EVENT': '2424', 'JPY_PARENT_PID': '2416', 'CLICOLOR': '1', 'PAGER': 'cat', 'GIT_PAGER': 'cat', 'MPLBACKEND': 'module://ipykernel.pylab.backend_inline'})\n",
      "*-----------------------------------------------------------------*\n",
      "C:\\Users\\mehedi.farazi\n",
      "*-----------------------------------------------------------------*\n",
      "D:\\Software\\Cmder\\cmder\\bin;D:\\Software\\Cmder\\cmder\\vendor\\bin;D:\\Software\\Cmder\\cmder\\vendor\\conemu-maximus5\\ConEmu\\Scripts;D:\\Software\\Cmder\\cmder\\vendor\\conemu-maximus5;D:\\Software\\Cmder\\cmder\\vendor\\conemu-maximus5\\ConEmu;C:\\ProgramData\\Anaconda3;C:\\ProgramData\\Anaconda3\\Library\\mingw-w64\\bin;C:\\ProgramData\\Anaconda3\\Library\\usr\\bin;C:\\ProgramData\\Anaconda3\\Library\\bin;C:\\ProgramData\\Anaconda3\\Scripts;C:\\WINDOWS\\system32;C:\\WINDOWS;C:\\WINDOWS\\System32\\Wbem;C:\\WINDOWS\\System32\\WindowsPowerShell\\v1.0\\;C:\\WINDOWS\\System32\\OpenSSH\\;C:\\xampp\\php;C:\\composer;C:\\Users\\mehedi.farazi\\AppData\\Local\\Microsoft\\WindowsApps;C:\\Users\\mehedi.farazi\\AppData\\Roaming\\Composer\\vendor\\bin;D:\\Software\\Cmder\\cmder\\vendor\\git-for-windows\\cmd;D:\\Software\\Cmder\\cmder\\vendor\\git-for-windows\\mingw64\\bin;D:\\Software\\Cmder\\cmder\\vendor\\git-for-windows\\usr\\bin;D:\\Software\\Cmder\\cmder\n",
      "*-----------------------------------------------------------------*\n"
     ]
    }
   ],
   "source": [
    "import os\n",
    "\n",
    "# Access all environment variables \n",
    "print('*-----------------------------------------------------------------*')\n",
    "print(os.environ)\n",
    "print('*-----------------------------------------------------------------*')\n",
    "\n",
    "# Access a particular environment variable \n",
    "print(os.environ['HOME'])\n",
    "print('*-----------------------------------------------------------------*')\n",
    "print(os.environ['PATH'])\n",
    "print('*-----------------------------------------------------------------*')"
   ]
  },
  {
   "cell_type": "markdown",
   "metadata": {},
   "source": [
    "## 54. Write a Python program to get the current username."
   ]
  },
  {
   "cell_type": "code",
   "execution_count": 62,
   "metadata": {},
   "outputs": [
    {
     "data": {
      "text/plain": [
       "'mehedi.farazi'"
      ]
     },
     "execution_count": 62,
     "metadata": {},
     "output_type": "execute_result"
    }
   ],
   "source": [
    "import getpass\n",
    "\n",
    "getpass.getuser()"
   ]
  },
  {
   "cell_type": "markdown",
   "metadata": {},
   "source": [
    "## 55. Write a Python to find local IP addresses using Python's stdlib."
   ]
  },
  {
   "cell_type": "code",
   "execution_count": 63,
   "metadata": {},
   "outputs": [
    {
     "name": "stdout",
     "output_type": "stream",
     "text": [
      "172.20.8.224\n"
     ]
    }
   ],
   "source": [
    "import socket\n",
    "\n",
    "print([l for l in ([ip for ip in socket.gethostbyname_ex(socket.gethostname())[2] \n",
    "if not ip.startswith(\"127.\")][:1], [[(s.connect(('8.8.8.8', 53)), \n",
    "s.getsockname()[0], s.close()) for s in [socket.socket(socket.AF_INET, \n",
    "socket.SOCK_DGRAM)]][0][1]]) if l][0][0])"
   ]
  },
  {
   "cell_type": "markdown",
   "metadata": {},
   "source": [
    "## 56. Write a Python program to get height and width of the console window."
   ]
  },
  {
   "cell_type": "code",
   "execution_count": 67,
   "metadata": {},
   "outputs": [
    {
     "data": {
      "text/plain": [
       "\"\\ndef terminal_size():\\n    import fcntl, termios, struct\\n    th, tw, hp, wp = struct.unpack('HHHH',\\n        fcntl.ioctl(0, termios.TIOCGWINSZ,\\n        struct.pack('HHHH', 0, 0, 0, 0)))\\n    return tw, th\\n\\nprint('Number of columns and Rows: ',terminal_size())\\n\""
      ]
     },
     "execution_count": 67,
     "metadata": {},
     "output_type": "execute_result"
    }
   ],
   "source": [
    "# This code will not work as I am working now on Kaggle's kernel:\n",
    "\n",
    "# Code not working:\n",
    "\"\"\"\n",
    "def terminal_size():\n",
    "    import fcntl, termios, struct\n",
    "    th, tw, hp, wp = struct.unpack('HHHH',\n",
    "        fcntl.ioctl(0, termios.TIOCGWINSZ,\n",
    "        struct.pack('HHHH', 0, 0, 0, 0)))\n",
    "    return tw, th\n",
    "\n",
    "print('Number of columns and Rows: ',terminal_size())\n",
    "\"\"\""
   ]
  },
  {
   "cell_type": "markdown",
   "metadata": {},
   "source": [
    "## 57. Write a program to get execution time for a Python method."
   ]
  },
  {
   "cell_type": "code",
   "execution_count": 68,
   "metadata": {},
   "outputs": [
    {
     "name": "stdout",
     "output_type": "stream",
     "text": [
      "(Result, Time) of sum 1 to 5 is: (15, 0.0)\n"
     ]
    }
   ],
   "source": [
    "import time\n",
    "\n",
    "def sum_of_n_numbers(n):\n",
    "    start_time = time.time()\n",
    "    s = 0\n",
    "    for i in range(1, n+1):\n",
    "        s += i\n",
    "    end_time = time.time()\n",
    "    return s, end_time - start_time\n",
    "\n",
    "n = 5\n",
    "print('(Result, Time) of sum 1 to {} is: {}'.format(n, sum_of_n_numbers(n)))"
   ]
  },
  {
   "cell_type": "markdown",
   "metadata": {},
   "source": [
    "## 58. Write a python program to sum of the first n positive integers."
   ]
  },
  {
   "cell_type": "code",
   "execution_count": 69,
   "metadata": {},
   "outputs": [
    {
     "data": {
      "text/plain": [
       "55.0"
      ]
     },
     "execution_count": 69,
     "metadata": {},
     "output_type": "execute_result"
    }
   ],
   "source": [
    "def sum_of_first_n_numbers(n):\n",
    "    return ((n * (n + 1)) / 2)\n",
    "            \n",
    "sum_of_first_n_numbers(10)"
   ]
  },
  {
   "cell_type": "markdown",
   "metadata": {},
   "source": [
    "## 59. Write a Python program to convert height (in feet and inches) to centimeters."
   ]
  },
  {
   "cell_type": "code",
   "execution_count": 70,
   "metadata": {},
   "outputs": [
    {
     "name": "stdout",
     "output_type": "stream",
     "text": [
      "Your height in centimeters is: 160\n"
     ]
    }
   ],
   "source": [
    "def feet_to_cm(ft, inch):\n",
    "    ft_to_inch = ft * 12            # 1 foot = 12 inch\n",
    "    total_inch = ft_to_inch + inch\n",
    "    return round(total_inch * 2.54)        # 1 inch = 2.54 cm\n",
    "\n",
    "print('Your height in centimeters is: {}'.format(feet_to_cm(5, 3)))"
   ]
  },
  {
   "cell_type": "markdown",
   "metadata": {},
   "source": [
    "## 60. Write a Python program to calculate the hypotenuse of a right angled triangle."
   ]
  },
  {
   "cell_type": "code",
   "execution_count": 71,
   "metadata": {},
   "outputs": [
    {
     "name": "stdout",
     "output_type": "stream",
     "text": [
      "The hypotenuse of right angle triangle is: 5.0\n"
     ]
    }
   ],
   "source": [
    "import math\n",
    "\n",
    "def hypotenuse_calc(b, h):\n",
    "    return math.sqrt(b**2 + h**2)\n",
    "\n",
    "print('The hypotenuse of right angle triangle is: {}'.format(hypotenuse_calc(3, 4)))"
   ]
  },
  {
   "cell_type": "markdown",
   "metadata": {},
   "source": [
    "## 61. Write a Python program to convert the distance (in feet) to inches, yards, and miles."
   ]
  },
  {
   "cell_type": "code",
   "execution_count": 72,
   "metadata": {},
   "outputs": [
    {
     "name": "stdout",
     "output_type": "stream",
     "text": [
      "Converted 100 feet distance into:\n",
      "\n",
      "Inch:1200\n",
      "Yards:33.33\n",
      "miles:0.02\n"
     ]
    }
   ],
   "source": [
    "def distance_converter(feet):\n",
    "    inch = feet * 12\n",
    "    yards = feet / 3\n",
    "    miles = feet / 5280\n",
    "    return round(inch, 2), round(yards, 2), round(miles, 2)\n",
    "\n",
    "print('Converted 100 feet distance into:\\n\\nInch:{}\\nYards:{}\\nmiles:{}'.format(distance_converter(100)[0], distance_converter(100)[1],distance_converter(100)[2]))"
   ]
  },
  {
   "cell_type": "markdown",
   "metadata": {},
   "source": [
    "## 62. Write a Python program to convert all units of time into seconds."
   ]
  },
  {
   "cell_type": "code",
   "execution_count": 73,
   "metadata": {},
   "outputs": [
    {
     "name": "stdout",
     "output_type": "stream",
     "text": [
      "Total time converted into seconds: 364810\n"
     ]
    }
   ],
   "source": [
    "def time_converter(days, hours, minutes, seconds):\n",
    "    days = days * 24 * 60 * 60\n",
    "    hours = hours * 60 * 60\n",
    "    minutes = minutes * 60\n",
    "    seconds = seconds\n",
    "    \n",
    "    total_seconds = days + hours + minutes + seconds\n",
    "    return total_seconds\n",
    "\n",
    "print('Total time converted into seconds: {}'.format(time_converter(4, 5, 20, 10)))"
   ]
  },
  {
   "cell_type": "markdown",
   "metadata": {},
   "source": [
    "## 63. Write a Python program to get an absolute file path."
   ]
  },
  {
   "cell_type": "code",
   "execution_count": 74,
   "metadata": {},
   "outputs": [
    {
     "data": {
      "text/plain": [
       "'D:\\\\Personal\\\\Documents\\\\file_41.txt'"
      ]
     },
     "execution_count": 74,
     "metadata": {},
     "output_type": "execute_result"
    }
   ],
   "source": [
    "def absolute_file_path(file_name):\n",
    "    from os import path\n",
    "    return path.abspath('file_41.txt')\n",
    "\n",
    "absolute_file_path('file_41.txt')"
   ]
  },
  {
   "cell_type": "markdown",
   "metadata": {},
   "source": [
    "## 64. Write a Python program to get file creation and modification date/times. "
   ]
  },
  {
   "cell_type": "code",
   "execution_count": 75,
   "metadata": {},
   "outputs": [
    {
     "name": "stdout",
     "output_type": "stream",
     "text": [
      "Last modified:\n",
      "Wed Oct  9 17:14:38 2019\n",
      "\n",
      "Time Created:\n",
      "Wed Oct  9 17:14:38 2019\n"
     ]
    }
   ],
   "source": [
    "import os.path, time\n",
    "\n",
    "print('Last modified:')\n",
    "print(time.ctime(os.path.getmtime('file_41.txt')))\n",
    "\n",
    "print('\\nTime Created:')\n",
    "print(time.ctime(os.path.getctime('file_41.txt')))"
   ]
  },
  {
   "cell_type": "markdown",
   "metadata": {},
   "source": [
    "## 65. Write a Python program to convert seconds to day, hour, minutes and seconds."
   ]
  },
  {
   "cell_type": "code",
   "execution_count": 76,
   "metadata": {},
   "outputs": [
    {
     "name": "stdout",
     "output_type": "stream",
     "text": [
      "Input second: 1234565\n",
      "\n",
      "Output in =\n",
      "Day: 14\n",
      "Hour: 6\n",
      "Minutes: 56\n",
      "Seconds: 5\n"
     ]
    }
   ],
   "source": [
    "def second_converter(sec):\n",
    "    day = sec // (24 * 60 * 60)\n",
    "    \n",
    "    remaining_sec_after_day_conversion = sec % (24 * 60 * 60)\n",
    "    hour = remaining_sec_after_day_conversion // 3600\n",
    "    \n",
    "    remaining_sec_after_hour_conversion = sec % 3600\n",
    "    minute = remaining_sec_after_hour_conversion // 60\n",
    "    \n",
    "    second = sec % 60\n",
    "    \n",
    "    return day, hour, minute, second\n",
    "\n",
    "sec = 1234565\n",
    "print('Input second: {}'.format(sec))\n",
    "day = second_converter(sec)[0]\n",
    "hour = second_converter(sec)[1]\n",
    "minutes = second_converter(sec)[2]\n",
    "second = second_converter(sec)[3]\n",
    "\n",
    "print('\\nOutput in =\\nDay: {}\\nHour: {}\\nMinutes: {}\\nSeconds: {}'.format(day, hour, minutes, second))"
   ]
  },
  {
   "cell_type": "markdown",
   "metadata": {},
   "source": [
    "## 66. Write a Python program to calculate body mass index. "
   ]
  },
  {
   "cell_type": "code",
   "execution_count": 77,
   "metadata": {},
   "outputs": [
    {
     "data": {
      "text/plain": [
       "2.53"
      ]
     },
     "execution_count": 77,
     "metadata": {},
     "output_type": "execute_result"
    }
   ],
   "source": [
    "def BMI(weight, height_in_meter):\n",
    "    return round(weight / (height_in_meter**2), 2)    # weight/(height_in_meter)^2\n",
    "\n",
    "BMI(85, 5.8)"
   ]
  },
  {
   "cell_type": "markdown",
   "metadata": {},
   "source": [
    "## 67. Write a Python program to convert pressure in kilopascals to pounds per square inch, a millimeter of mercury (mmHg) and atmosphere pressure."
   ]
  },
  {
   "cell_type": "code",
   "execution_count": 78,
   "metadata": {},
   "outputs": [
    {
     "name": "stdout",
     "output_type": "stream",
     "text": [
      "Pressure in pounds per square inch: 1.79\n",
      "Pressure in millimeter of mercury (mmHg): 92.64\n",
      "Pressure in atm: 0.12\n"
     ]
    }
   ],
   "source": [
    "def pressure_converter(kpa):\n",
    "    ppsi = kpa / 6.89475729     #pounds per square inch.     1 kpa = pressure in kpa / 6.895\n",
    "    mmhg = kpa * 7.501          # 1 mmhg = kpa * 7.501\n",
    "    atm = kpa / 101.325         # 1 atm = kpa / 101.325\n",
    "    \n",
    "    print('Pressure in pounds per square inch: %.2f' %(ppsi))   \n",
    "    print('Pressure in millimeter of mercury (mmHg): %.2f' %(mmhg))\n",
    "    print('Pressure in atm: %.2f' %(atm))\n",
    "    \n",
    "pressure_converter(12.35)"
   ]
  },
  {
   "cell_type": "markdown",
   "metadata": {},
   "source": [
    "## 68. Write a Python program to calculate the sum of the digits in an integer. "
   ]
  },
  {
   "cell_type": "code",
   "execution_count": 79,
   "metadata": {},
   "outputs": [
    {
     "data": {
      "text/plain": [
       "16"
      ]
     },
     "execution_count": 79,
     "metadata": {},
     "output_type": "execute_result"
    }
   ],
   "source": [
    "def sum_of_digits(n):\n",
    "    s = 0\n",
    "    while(n != 0):\n",
    "        rem = n % 10\n",
    "        s = s + rem\n",
    "        n = n // 10\n",
    "    return s\n",
    "    \n",
    "sum_of_digits(5245)"
   ]
  },
  {
   "cell_type": "markdown",
   "metadata": {},
   "source": [
    "## 69. Write a Python program to sort three integers without using conditional statements and loops."
   ]
  },
  {
   "cell_type": "code",
   "execution_count": 80,
   "metadata": {},
   "outputs": [
    {
     "name": "stdout",
     "output_type": "stream",
     "text": [
      "Integers after sorting in ascending order: (3, 4, 5)\n"
     ]
    }
   ],
   "source": [
    "def sort_three_integer(a, b, c):\n",
    "    maximum = max(a, b, c)\n",
    "    minimum = min(a, b, c)\n",
    "    middle = (a + b + c) - (maximum + minimum)\n",
    "    return minimum, middle, maximum\n",
    "\n",
    "print('Integers after sorting in ascending order:', sort_three_integer(5, 3, 4))"
   ]
  },
  {
   "cell_type": "markdown",
   "metadata": {},
   "source": [
    "## 70. Write a Python program to sort files by date."
   ]
  },
  {
   "cell_type": "code",
   "execution_count": 81,
   "metadata": {},
   "outputs": [
    {
     "name": "stdout",
     "output_type": "stream",
     "text": [
      "file_41.txt\n"
     ]
    }
   ],
   "source": [
    "# Code copied form official solution:\n",
    "\n",
    "import glob\n",
    "import os\n",
    "\n",
    "files = glob.glob(\"*.txt\")\n",
    "files.sort(key=os.path.getmtime)\n",
    "print(\"\\n\".join(files))"
   ]
  },
  {
   "cell_type": "markdown",
   "metadata": {},
   "source": [
    "## 71. Write a Python program to get a directory listing, sorted by creation date."
   ]
  },
  {
   "cell_type": "code",
   "execution_count": 82,
   "metadata": {},
   "outputs": [
    {
     "name": "stdout",
     "output_type": "stream",
     "text": [
      "Thu Oct  3 11:36:49 2019 Bangla Trac Experience Letter.pdf\n",
      "Sat Oct  5 12:23:34 2019 Mehedi_Data Scientist_Oct19.docx\n",
      "Sat Oct  5 23:26:15 2019 Mehedi_Data Scientist_Oct19.pdf\n",
      "Tue Oct  8 23:15:40 2019 Importing data_Python Cheat Sheet.pdf\n",
      "Tue Oct  8 23:16:31 2019 Python Data Visualization- Bokeh Cheat Sheet.pdf\n",
      "Tue Oct  8 23:17:48 2019 spaCy Cheat Sheet - Advanced NLP in Python.pdf\n",
      "Wed Oct  9 17:08:20 2019 01_Basic Part-1 150 Exercises Solutions.ipynb\n",
      "Wed Oct  9 17:14:38 2019 file_41.txt\n"
     ]
    }
   ],
   "source": [
    "# Code copied form official solution:\n",
    "\n",
    "from stat import S_ISREG, ST_CTIME, ST_MODE\n",
    "import os, sys, time\n",
    "\n",
    "#Relative or absolute path to the directory\n",
    "dir_path = sys.argv[1] if len(sys.argv) == 2 else r'.'\n",
    "\n",
    "#all entries in the directory w/ stats\n",
    "data = (os.path.join(dir_path, fn) for fn in os.listdir(dir_path))\n",
    "data = ((os.stat(path), path) for path in data)\n",
    "\n",
    "# regular files, insert creation date\n",
    "data = ((stat[ST_CTIME], path)\n",
    "           for stat, path in data if S_ISREG(stat[ST_MODE]))\n",
    "\n",
    "for cdate, path in sorted(data):\n",
    "    print(time.ctime(cdate), os.path.basename(path))"
   ]
  },
  {
   "cell_type": "markdown",
   "metadata": {},
   "source": [
    "## 72. Write a Python program to get the details of math module."
   ]
  },
  {
   "cell_type": "code",
   "execution_count": 83,
   "metadata": {},
   "outputs": [
    {
     "name": "stdout",
     "output_type": "stream",
     "text": [
      "['__doc__', '__loader__', '__name__', '__package__', '__spec__', 'acos', 'acosh', 'asin', 'asinh', 'atan', 'atan2', 'atanh', 'ceil', 'copysign', 'cos', 'cosh', 'degrees', 'e', 'erf', 'erfc', 'exp', 'expm1', 'fabs', 'factorial', 'floor', 'fmod', 'frexp', 'fsum', 'gamma', 'gcd', 'hypot', 'inf', 'isclose', 'isfinite', 'isinf', 'isnan', 'ldexp', 'lgamma', 'log', 'log10', 'log1p', 'log2', 'modf', 'nan', 'pi', 'pow', 'radians', 'remainder', 'sin', 'sinh', 'sqrt', 'tan', 'tanh', 'tau', 'trunc']\n"
     ]
    }
   ],
   "source": [
    "import math\n",
    "\n",
    "print(dir(math))"
   ]
  },
  {
   "cell_type": "markdown",
   "metadata": {},
   "source": [
    "## 73. Write a Python program to calculate midpoints of a line."
   ]
  },
  {
   "cell_type": "code",
   "execution_count": 84,
   "metadata": {},
   "outputs": [
    {
     "name": "stdout",
     "output_type": "stream",
     "text": [
      "Midpoints: (x,y)=(3.0,3.0)\n"
     ]
    }
   ],
   "source": [
    "x1, y1, x2, y2 = 2, 2, 4, 4\n",
    "\n",
    "x_mid = (x1 + x2)/2\n",
    "y_mid = (y1 + y2)/2\n",
    "\n",
    "print('Midpoints: (x,y)=({},{})'.format(x_mid, y_mid))"
   ]
  },
  {
   "cell_type": "markdown",
   "metadata": {},
   "source": [
    "## 74. Write a Python program to hash a word."
   ]
  },
  {
   "cell_type": "code",
   "execution_count": 85,
   "metadata": {},
   "outputs": [
    {
     "name": "stdout",
     "output_type": "stream",
     "text": [
      "The coded word is: W02\n"
     ]
    }
   ],
   "source": [
    "# Understood the code but don't why the code the word using this logic. \n",
    "# ord() function returns the number representing the unicode code of a specified character.\n",
    "\n",
    "soundx = [0, 1, 2, 3, 0, 1, 2, 0, 0, 2, 2, 4, 5, 5, 0, 1, 2, 6, 2, 3, 0, 1, 0, 2, 0, 2]  #26 English words customcode\n",
    "\n",
    "word = 'w3r'\n",
    "word = word.upper()                # W3R\n",
    "\n",
    "coded = word[0]                    # coded = 'W'\n",
    "for a in word[1: len(word)]:       # possible values for a: 3, R\n",
    "    i = 65 - ord(a)                # possible values of i: 14, -17\n",
    "    coded = coded + str(soundx[i]) # possible values of coded: W0, W02\n",
    "print('The coded word is:', coded)"
   ]
  },
  {
   "cell_type": "markdown",
   "metadata": {},
   "source": [
    "## 75. Write a Python program to get the copyright information.\n",
    "\n",
    "Like the picture copyrighted by w3resources. So I add it to my kernel. \n",
    "\n",
    "![Copyright](https://www.w3resource.com/w3r_images/python-basic-image-exercise-75.png)"
   ]
  },
  {
   "cell_type": "code",
   "execution_count": 86,
   "metadata": {},
   "outputs": [
    {
     "name": "stdout",
     "output_type": "stream",
     "text": [
      "Copyright (c) 2001-2019 Python Software Foundation.\n",
      "All Rights Reserved.\n",
      "\n",
      "Copyright (c) 2000 BeOpen.com.\n",
      "All Rights Reserved.\n",
      "\n",
      "Copyright (c) 1995-2001 Corporation for National Research Initiatives.\n",
      "All Rights Reserved.\n",
      "\n",
      "Copyright (c) 1991-1995 Stichting Mathematisch Centrum, Amsterdam.\n",
      "All Rights Reserved.\n",
      "\n"
     ]
    }
   ],
   "source": [
    "import sys\n",
    "print(sys.copyright)\n",
    "print()"
   ]
  },
  {
   "cell_type": "markdown",
   "metadata": {},
   "source": [
    "## 76. Write a Python program to get the command-line arguments (name of the script, the number of arguments, arguments) passed to a script."
   ]
  },
  {
   "cell_type": "code",
   "execution_count": 87,
   "metadata": {},
   "outputs": [
    {
     "name": "stdout",
     "output_type": "stream",
     "text": [
      "Name/Path of the script: C:\\ProgramData\\Anaconda3\\lib\\site-packages\\ipykernel_launcher.py\n",
      "Number of arguments: 3\n",
      "\n",
      "Argument list: ['C:\\\\ProgramData\\\\Anaconda3\\\\lib\\\\site-packages\\\\ipykernel_launcher.py', '-f', 'C:\\\\Users\\\\mehedi.farazi\\\\AppData\\\\Roaming\\\\jupyter\\\\runtime\\\\kernel-995ed69a-8304-4d16-9d53-3a95ad313db1.json']\n"
     ]
    }
   ],
   "source": [
    "import sys\n",
    "\n",
    "print('Name/Path of the script:', sys.argv[0])\n",
    "print('Number of arguments:', len(sys.argv))\n",
    "print()\n",
    "print('Argument list:', list(sys.argv))"
   ]
  },
  {
   "cell_type": "markdown",
   "metadata": {},
   "source": [
    "## 77. Write a Python program to test whether the system is a big-endian platform or little-endian platform. "
   ]
  },
  {
   "cell_type": "code",
   "execution_count": 88,
   "metadata": {},
   "outputs": [
    {
     "name": "stdout",
     "output_type": "stream",
     "text": [
      "little-endian platform\n"
     ]
    }
   ],
   "source": [
    "import sys\n",
    "\n",
    "if sys.byteorder == 'little':         #intel, alpha\n",
    "    print('little-endian platform')\n",
    "else:                                 #motorola, sparc\n",
    "    print('big-endian platform')"
   ]
  },
  {
   "cell_type": "markdown",
   "metadata": {},
   "source": [
    "## 78. Write a Python program to find the available built-in modules."
   ]
  },
  {
   "cell_type": "code",
   "execution_count": 89,
   "metadata": {},
   "outputs": [
    {
     "name": "stdout",
     "output_type": "stream",
     "text": [
      "('_abc', '_ast', '_bisect', '_blake2', '_codecs', '_codecs_cn', '_codecs_hk', '_codecs_iso2022', '_codecs_jp', '_codecs_kr', '_codecs_tw', '_collections', '_contextvars', '_csv', '_datetime', '_functools', '_heapq', '_imp', '_io', '_json', '_locale', '_lsprof', '_md5', '_multibytecodec', '_opcode', '_operator', '_pickle', '_random', '_sha1', '_sha256', '_sha3', '_sha512', '_signal', '_sre', '_stat', '_string', '_struct', '_symtable', '_thread', '_tracemalloc', '_warnings', '_weakref', '_winapi', 'array', 'atexit', 'audioop', 'binascii', 'builtins', 'cmath', 'errno', 'faulthandler', 'gc', 'itertools', 'marshal', 'math', 'mmap', 'msvcrt', 'nt', 'parser', 'sys', 'time', 'winreg', 'xxsubtype', 'zipimport', 'zlib')\n"
     ]
    }
   ],
   "source": [
    "# Copied for official solution:\n",
    "\n",
    "import sys\n",
    "import textwrap\n",
    "print(sys.builtin_module_names)"
   ]
  },
  {
   "cell_type": "markdown",
   "metadata": {},
   "source": [
    "## 79. Write a Python program to get the size of an object in bytes."
   ]
  },
  {
   "cell_type": "code",
   "execution_count": 90,
   "metadata": {},
   "outputs": [
    {
     "name": "stdout",
     "output_type": "stream",
     "text": [
      "Size of str1=keep is: 53 bytes.\n",
      "Size of str2=up is: 51 bytes.\n",
      "Size of num1=345 is: 28 bytes.\n"
     ]
    }
   ],
   "source": [
    "import sys\n",
    "\n",
    "str1 = 'keep'\n",
    "str2 = 'up'\n",
    "num1 = 345\n",
    "\n",
    "print('Size of str1={} is: {} bytes.'.format(str1, sys.getsizeof(str1)))\n",
    "print('Size of str2={} is: {} bytes.'.format(str2, sys.getsizeof(str2)))\n",
    "print('Size of num1={} is: {} bytes.'.format(num1, sys.getsizeof(num1)))"
   ]
  },
  {
   "cell_type": "markdown",
   "metadata": {},
   "source": [
    "## 80. Write a Python program to get the current value of the recursion limit. "
   ]
  },
  {
   "cell_type": "code",
   "execution_count": 91,
   "metadata": {},
   "outputs": [
    {
     "name": "stdout",
     "output_type": "stream",
     "text": [
      "Current value of recursion limit: 3000\n"
     ]
    }
   ],
   "source": [
    "import sys\n",
    "\n",
    "print('Current value of recursion limit:', sys.getrecursionlimit())"
   ]
  },
  {
   "cell_type": "markdown",
   "metadata": {},
   "source": [
    "## 81. Write a Python program to concatenate N strings."
   ]
  },
  {
   "cell_type": "code",
   "execution_count": 92,
   "metadata": {},
   "outputs": [
    {
     "name": "stdout",
     "output_type": "stream",
     "text": [
      "Concatenated string of colors:\t Red Green Blue Yellow Cyan\n"
     ]
    }
   ],
   "source": [
    "list_of_colors = ['Red', 'Green', 'Blue', 'Yellow', 'Cyan']\n",
    "all_colors = ' '.join(list_of_colors)\n",
    "print('Concatenated string of colors:\\t', all_colors)"
   ]
  },
  {
   "cell_type": "markdown",
   "metadata": {},
   "source": [
    "## 82. Write a Python program to calculate the sum over a container."
   ]
  },
  {
   "cell_type": "code",
   "execution_count": 93,
   "metadata": {},
   "outputs": [
    {
     "name": "stdout",
     "output_type": "stream",
     "text": [
      "Sum over a list container: 150\n"
     ]
    }
   ],
   "source": [
    "l = [10, 20, 30, 40, 50]\n",
    "s = 0\n",
    "\n",
    "for i in l:\n",
    "    s = s + i\n",
    "print('Sum over a list container:', s)"
   ]
  },
  {
   "cell_type": "markdown",
   "metadata": {},
   "source": [
    "## 83. Write a Python program to test whether all numbers of a list is greater than a certain number."
   ]
  },
  {
   "cell_type": "code",
   "execution_count": 94,
   "metadata": {},
   "outputs": [
    {
     "name": "stdout",
     "output_type": "stream",
     "text": [
      "True\n",
      "False\n"
     ]
    }
   ],
   "source": [
    "# Return True if bool(x) is True for all values x in the iterable.\n",
    "\n",
    "num = [2, 3, 4]\n",
    "print(all(x > 1 for x in num))\n",
    "print(all(x > 5 for x in num))"
   ]
  },
  {
   "cell_type": "markdown",
   "metadata": {},
   "source": [
    "## 84. Write a Python program to count the number occurrence of a specific character in a string. "
   ]
  },
  {
   "cell_type": "code",
   "execution_count": 95,
   "metadata": {},
   "outputs": [
    {
     "name": "stdout",
     "output_type": "stream",
     "text": [
      "3\n"
     ]
    }
   ],
   "source": [
    "string = 'character occurance'\n",
    "\n",
    "char = 'r'\n",
    "count = 0\n",
    "for i in string:\n",
    "    if i == char:\n",
    "        count += 1\n",
    "print(count)"
   ]
  },
  {
   "cell_type": "code",
   "execution_count": 96,
   "metadata": {},
   "outputs": [
    {
     "data": {
      "text/plain": [
       "3"
      ]
     },
     "execution_count": 96,
     "metadata": {},
     "output_type": "execute_result"
    }
   ],
   "source": [
    "# Solution 2:\n",
    "\n",
    "string.count('r')"
   ]
  },
  {
   "cell_type": "markdown",
   "metadata": {},
   "source": [
    "## 85. Write a Python program to check if a file path is a file or a directory. "
   ]
  },
  {
   "cell_type": "code",
   "execution_count": 97,
   "metadata": {},
   "outputs": [
    {
     "name": "stdout",
     "output_type": "stream",
     "text": [
      "This is a file path.\n"
     ]
    }
   ],
   "source": [
    "import os\n",
    "\n",
    "path = 'file_41.txt'\n",
    "if os.path.isdir(path):\n",
    "    print('This is a directory path.')\n",
    "elif os.path.isfile(path):\n",
    "    print('This is a file path.')\n",
    "else:\n",
    "    print('This is something else \\(socket, FIFO, device file)')"
   ]
  },
  {
   "cell_type": "markdown",
   "metadata": {},
   "source": [
    "## 86. Write a Python program to get the ASCII value of a character.\n",
    "\n",
    "![ASCII Table](https://www.w3resource.com/w3r_images/python-basic-image-exercise-86.png)"
   ]
  },
  {
   "cell_type": "code",
   "execution_count": 98,
   "metadata": {},
   "outputs": [
    {
     "name": "stdout",
     "output_type": "stream",
     "text": [
      "ASCII value of f is: 102\n"
     ]
    }
   ],
   "source": [
    "char = 'f'\n",
    "print('ASCII value of {} is: {}'.format(char, ord(char)))"
   ]
  },
  {
   "cell_type": "markdown",
   "metadata": {},
   "source": [
    "## 87. Write a Python program to get the size of a file."
   ]
  },
  {
   "cell_type": "code",
   "execution_count": 99,
   "metadata": {},
   "outputs": [
    {
     "name": "stdout",
     "output_type": "stream",
     "text": [
      "0 bytes\n"
     ]
    }
   ],
   "source": [
    "import os\n",
    "\n",
    "print(os.path.getsize('file_41.txt'), end = '')\n",
    "print(' bytes')"
   ]
  },
  {
   "cell_type": "markdown",
   "metadata": {},
   "source": [
    "## 88. Given variables x=30 and y=20, write a Python program to print \"30+20=50\"."
   ]
  },
  {
   "cell_type": "code",
   "execution_count": 100,
   "metadata": {},
   "outputs": [
    {
     "name": "stdout",
     "output_type": "stream",
     "text": [
      "30+20=50\n"
     ]
    }
   ],
   "source": [
    "x = 30\n",
    "y = 20\n",
    "\n",
    "print('{}+{}={}'.format(x, y, x+y))"
   ]
  },
  {
   "cell_type": "markdown",
   "metadata": {},
   "source": [
    "## 89. Write a Python program to perform an action if a condition is true. \n",
    "Given a variable name, if the value is 1, display the string \"First day of a Month!\" and do nothing if the value is not equal."
   ]
  },
  {
   "cell_type": "code",
   "execution_count": 101,
   "metadata": {},
   "outputs": [
    {
     "name": "stdout",
     "output_type": "stream",
     "text": [
      "First day of a Month!\n"
     ]
    }
   ],
   "source": [
    "def check_condition(value):\n",
    "    if value == 1:\n",
    "        print('First day of a Month!')\n",
    "    pass\n",
    "    \n",
    "check_condition(1)"
   ]
  },
  {
   "cell_type": "markdown",
   "metadata": {},
   "source": [
    "## 90. Write a Python program to create a copy of its own source code.\n",
    "\n",
    "**Quine Programming**: A quine is a computer program which takes no input and produces a copy of its own source code as its only output. "
   ]
  },
  {
   "cell_type": "code",
   "execution_count": 102,
   "metadata": {},
   "outputs": [
    {
     "name": "stdout",
     "output_type": "stream",
     "text": [
      "print(lambda str='print(lambda str=%r: (str %% str))()': (str % str))()\n"
     ]
    }
   ],
   "source": [
    "# Copied form official solution. The code is not clear to me. \n",
    "\n",
    "print((lambda str='print(lambda str=%r: (str %% str))()': (str % str))())"
   ]
  },
  {
   "cell_type": "markdown",
   "metadata": {},
   "source": [
    "## 91. Write a Python program to swap two variables."
   ]
  },
  {
   "cell_type": "code",
   "execution_count": 103,
   "metadata": {},
   "outputs": [
    {
     "name": "stdout",
     "output_type": "stream",
     "text": [
      "Oriinal input: a=3, b=4\n",
      "After swap: a=4, b=3\n"
     ]
    }
   ],
   "source": [
    "a, b = 3, 4\n",
    "print('Oriinal input: a={}, b={}'.format(a,b))\n",
    "\n",
    "a, b = b, a\n",
    "print('After swap: a={}, b={}'.format(a, b))"
   ]
  },
  {
   "cell_type": "markdown",
   "metadata": {},
   "source": [
    "## 92. Write a Python program to define a string containing special characters in various forms. "
   ]
  },
  {
   "cell_type": "code",
   "execution_count": 104,
   "metadata": {},
   "outputs": [
    {
     "name": "stdout",
     "output_type": "stream",
     "text": [
      "\\#{'}${\"}@/\n",
      "\\#{'}${\"}@/\n",
      "\\#{'}${\"}@/\n",
      "\\#{'}${\"}@/\n",
      "\\#{'}${\"}@/\n",
      "\\#{'}${\"}@/\n"
     ]
    }
   ],
   "source": [
    "print(\"\\#{'}${\\\"}@/\")\n",
    "print(\"\\#{'}${\"'\"'\"}@/\")      #change from first print: {\"'\"'\"}\n",
    "print(r\"\"\"\\#{'}${\"}@/\"\"\")     #change from string to print: r\"\"\"string to print\"\"\"\n",
    "print('\\#{\\'}${\"}@/')         #change from first print: used single quote instead of double quote\n",
    "print('\\#{'\"'\"'}${\"}@/')      #\n",
    "print(r'''\\#{'}${\"}@/''')     #change from string to print: r'''string to print'''"
   ]
  },
  {
   "cell_type": "markdown",
   "metadata": {},
   "source": [
    "## 93. Write a Python program to get the identity of an object. "
   ]
  },
  {
   "cell_type": "code",
   "execution_count": 105,
   "metadata": {},
   "outputs": [
    {
     "name": "stdout",
     "output_type": "stream",
     "text": [
      "obj1 address: 1936692580768\n"
     ]
    }
   ],
   "source": [
    "obj1 = object()\n",
    "identity = id(obj1)\n",
    "print('obj1 address:', identity)"
   ]
  },
  {
   "cell_type": "markdown",
   "metadata": {},
   "source": [
    "Python `id()` function returns the “identity” of the object. The identity of an object is an integer, which is guaranteed to be unique and constant for this object during its lifetime. Two objects with non-overlapping lifetimes may have the same id() value."
   ]
  },
  {
   "cell_type": "markdown",
   "metadata": {},
   "source": [
    "## 94. Write a Python program to convert a byte string to a list of integers."
   ]
  },
  {
   "cell_type": "code",
   "execution_count": 106,
   "metadata": {},
   "outputs": [
    {
     "name": "stdout",
     "output_type": "stream",
     "text": [
      "[65, 98, 99]\n"
     ]
    }
   ],
   "source": [
    "b = b'Abc'\n",
    "print(list(b))     # ASCII conversion"
   ]
  },
  {
   "cell_type": "markdown",
   "metadata": {},
   "source": [
    "## 95. Write a Python program to check if a string is numeric."
   ]
  },
  {
   "cell_type": "code",
   "execution_count": 107,
   "metadata": {},
   "outputs": [
    {
     "name": "stdout",
     "output_type": "stream",
     "text": [
      "Not numeric\n"
     ]
    }
   ],
   "source": [
    "s = 'a123'\n",
    "\n",
    "try:\n",
    "    float(s)\n",
    "    print('The given string is numeric.')\n",
    "except (ValueError, TypeError):\n",
    "    print('Not numeric')"
   ]
  },
  {
   "cell_type": "markdown",
   "metadata": {},
   "source": [
    "## 96. Write a Python program to print the current call stack.\n",
    "\n",
    "In computer science, a **call stack** is a stack data structure that stores information about the active subroutines of a computer program. \n",
    "\n",
    "A call stack is used for several related purposes, but the main reason for having one is to keep track of the point to which each active subroutine should return control when it finishes executing. [More reading](https://en.wikipedia.org/wiki/Call_stack)"
   ]
  },
  {
   "cell_type": "code",
   "execution_count": 108,
   "metadata": {},
   "outputs": [
    {
     "name": "stderr",
     "output_type": "stream",
     "text": [
      "  File \"C:\\ProgramData\\Anaconda3\\lib\\runpy.py\", line 193, in _run_module_as_main\n",
      "    \"__main__\", mod_spec)\n",
      "  File \"C:\\ProgramData\\Anaconda3\\lib\\runpy.py\", line 85, in _run_code\n",
      "    exec(code, run_globals)\n",
      "  File \"C:\\ProgramData\\Anaconda3\\lib\\site-packages\\ipykernel_launcher.py\", line 16, in <module>\n",
      "    app.launch_new_instance()\n",
      "  File \"C:\\ProgramData\\Anaconda3\\lib\\site-packages\\traitlets\\config\\application.py\", line 658, in launch_instance\n",
      "    app.start()\n",
      "  File \"C:\\ProgramData\\Anaconda3\\lib\\site-packages\\ipykernel\\kernelapp.py\", line 505, in start\n",
      "    self.io_loop.start()\n",
      "  File \"C:\\ProgramData\\Anaconda3\\lib\\site-packages\\tornado\\platform\\asyncio.py\", line 148, in start\n",
      "    self.asyncio_loop.run_forever()\n",
      "  File \"C:\\ProgramData\\Anaconda3\\lib\\asyncio\\base_events.py\", line 539, in run_forever\n",
      "    self._run_once()\n",
      "  File \"C:\\ProgramData\\Anaconda3\\lib\\asyncio\\base_events.py\", line 1775, in _run_once\n",
      "    handle._run()\n",
      "  File \"C:\\ProgramData\\Anaconda3\\lib\\asyncio\\events.py\", line 88, in _run\n",
      "    self._context.run(self._callback, *self._args)\n",
      "  File \"C:\\ProgramData\\Anaconda3\\lib\\site-packages\\tornado\\ioloop.py\", line 690, in <lambda>\n",
      "    lambda f: self._run_callback(functools.partial(callback, future))\n",
      "  File \"C:\\ProgramData\\Anaconda3\\lib\\site-packages\\tornado\\ioloop.py\", line 743, in _run_callback\n",
      "    ret = callback()\n",
      "  File \"C:\\ProgramData\\Anaconda3\\lib\\site-packages\\tornado\\gen.py\", line 787, in inner\n",
      "    self.run()\n",
      "  File \"C:\\ProgramData\\Anaconda3\\lib\\site-packages\\tornado\\gen.py\", line 748, in run\n",
      "    yielded = self.gen.send(value)\n",
      "  File \"C:\\ProgramData\\Anaconda3\\lib\\site-packages\\ipykernel\\kernelbase.py\", line 378, in dispatch_queue\n",
      "    yield self.process_one()\n",
      "  File \"C:\\ProgramData\\Anaconda3\\lib\\site-packages\\tornado\\gen.py\", line 225, in wrapper\n",
      "    runner = Runner(result, future, yielded)\n",
      "  File \"C:\\ProgramData\\Anaconda3\\lib\\site-packages\\tornado\\gen.py\", line 714, in __init__\n",
      "    self.run()\n",
      "  File \"C:\\ProgramData\\Anaconda3\\lib\\site-packages\\tornado\\gen.py\", line 748, in run\n",
      "    yielded = self.gen.send(value)\n",
      "  File \"C:\\ProgramData\\Anaconda3\\lib\\site-packages\\ipykernel\\kernelbase.py\", line 365, in process_one\n",
      "    yield gen.maybe_future(dispatch(*args))\n",
      "  File \"C:\\ProgramData\\Anaconda3\\lib\\site-packages\\tornado\\gen.py\", line 209, in wrapper\n",
      "    yielded = next(result)\n",
      "  File \"C:\\ProgramData\\Anaconda3\\lib\\site-packages\\ipykernel\\kernelbase.py\", line 272, in dispatch_shell\n",
      "    yield gen.maybe_future(handler(stream, idents, msg))\n",
      "  File \"C:\\ProgramData\\Anaconda3\\lib\\site-packages\\tornado\\gen.py\", line 209, in wrapper\n",
      "    yielded = next(result)\n",
      "  File \"C:\\ProgramData\\Anaconda3\\lib\\site-packages\\ipykernel\\kernelbase.py\", line 542, in execute_request\n",
      "    user_expressions, allow_stdin,\n",
      "  File \"C:\\ProgramData\\Anaconda3\\lib\\site-packages\\tornado\\gen.py\", line 209, in wrapper\n",
      "    yielded = next(result)\n",
      "  File \"C:\\ProgramData\\Anaconda3\\lib\\site-packages\\ipykernel\\ipkernel.py\", line 294, in do_execute\n",
      "    res = shell.run_cell(code, store_history=store_history, silent=silent)\n",
      "  File \"C:\\ProgramData\\Anaconda3\\lib\\site-packages\\ipykernel\\zmqshell.py\", line 536, in run_cell\n",
      "    return super(ZMQInteractiveShell, self).run_cell(*args, **kwargs)\n",
      "  File \"C:\\ProgramData\\Anaconda3\\lib\\site-packages\\IPython\\core\\interactiveshell.py\", line 2854, in run_cell\n",
      "    raw_cell, store_history, silent, shell_futures)\n",
      "  File \"C:\\ProgramData\\Anaconda3\\lib\\site-packages\\IPython\\core\\interactiveshell.py\", line 2880, in _run_cell\n",
      "    return runner(coro)\n",
      "  File \"C:\\ProgramData\\Anaconda3\\lib\\site-packages\\IPython\\core\\async_helpers.py\", line 68, in _pseudo_sync_runner\n",
      "    coro.send(None)\n",
      "  File \"C:\\ProgramData\\Anaconda3\\lib\\site-packages\\IPython\\core\\interactiveshell.py\", line 3057, in run_cell_async\n",
      "    interactivity=interactivity, compiler=compiler, result=result)\n",
      "  File \"C:\\ProgramData\\Anaconda3\\lib\\site-packages\\IPython\\core\\interactiveshell.py\", line 3248, in run_ast_nodes\n",
      "    if (await self.run_code(code, result,  async_=asy)):\n",
      "  File \"C:\\ProgramData\\Anaconda3\\lib\\site-packages\\IPython\\core\\interactiveshell.py\", line 3325, in run_code\n",
      "    exec(code_obj, self.user_global_ns, self.user_ns)\n",
      "  File \"<ipython-input-108-0192cc06d84c>\", line 8, in <module>\n",
      "    f1()\n",
      "  File \"<ipython-input-108-0192cc06d84c>\", line 4, in f1\n",
      "    return abc()\n",
      "  File \"<ipython-input-108-0192cc06d84c>\", line 6, in abc\n",
      "    traceback.print_stack()\n"
     ]
    }
   ],
   "source": [
    "import traceback\n",
    "\n",
    "def f1():\n",
    "    return abc()\n",
    "def abc():\n",
    "    traceback.print_stack()\n",
    "    \n",
    "f1()"
   ]
  },
  {
   "cell_type": "markdown",
   "metadata": {},
   "source": [
    "## 97. Write a Python program to list the special variables used within the language."
   ]
  },
  {
   "cell_type": "code",
   "execution_count": 109,
   "metadata": {},
   "outputs": [
    {
     "name": "stdout",
     "output_type": "stream",
     "text": [
      "\n",
      "ArithmeticError AssertionError AttributeError BMI BaseException BlockingIOError BrokenPipeError BufferError\n",
      "BytesWarning ChildProcessError ConnectionAbortedError ConnectionError ConnectionRefusedError ConnectionResetError DeprecationWarning EOFError\n",
      "Ellipsis EnvironmentError Exception False FileExistsError FileNotFoundError FloatingPointError FutureWarning\n",
      "GeneratorExit IOError ImportError ImportWarning In IndentationError IndexError InterruptedError\n",
      "IsADirectoryError KeyError KeyboardInterrupt LookupError MemoryError ModuleNotFoundError NameError None\n",
      "NotADirectoryError NotImplemented NotImplementedError OSError Out OverflowError PendingDeprecationWarning PermissionError\n",
      "ProcessLookupError RecursionError ReferenceError ResourceWarning RuntimeError RuntimeWarning ST_CTIME ST_MODE\n",
      "S_ISREG StopAsyncIteration StopIteration SyntaxError SyntaxWarning SystemError SystemExit TabError\n",
      "TimeoutError True TypeError UnboundLocalError UnicodeDecodeError UnicodeEncodeError UnicodeError UnicodeTranslateError\n",
      "UnicodeWarning UserWarning ValueError Warning WindowsError ZeroDivisionError _16 _18\n",
      "_19 _3 _30 _32 _40 _43 _44 _45\n",
      "_46 _48 _49 _50 _51 _62 _66 _67\n",
      "_69 _74 _77 _79 _96 __ __IPYTHON__ ___\n",
      "__build_class__ __builtin__ __builtins__ __debug__ __doc__ __import__ __loader__ __name__\n",
      "__package__ __spec__ _dh _i _i1 _i10 _i100 _i101\n",
      "_i102 _i103 _i104 _i105 _i106 _i107 _i108 _i109\n",
      "_i11 _i12 _i13 _i14 _i15 _i16 _i17 _i18\n",
      "_i19 _i2 _i20 _i21 _i22 _i23 _i24 _i25\n",
      "_i26 _i27 _i28 _i29 _i3 _i30 _i31 _i32\n",
      "_i33 _i34 _i35 _i36 _i37 _i38 _i39 _i4\n",
      "_i40 _i41 _i42 _i43 _i44 _i45 _i46 _i47\n",
      "_i48 _i49 _i5 _i50 _i51 _i52 _i53 _i54\n",
      "_i55 _i56 _i57 _i58 _i59 _i6 _i60 _i61\n",
      "_i62 _i63 _i64 _i65 _i66 _i67 _i68 _i69\n",
      "_i7 _i70 _i71 _i72 _i73 _i74 _i75 _i76\n",
      "_i77 _i78 _i79 _i8 _i80 _i81 _i82 _i83\n",
      "_i84 _i85 _i86 _i87 _i88 _i89 _i9 _i90\n",
      "_i91 _i92 _i93 _i94 _i95 _i96 _i97 _i98\n",
      "_i99 _ih _ii _iii _oh a abc abs\n",
      "absolute_file_path all all_colors any area ascii b bin\n",
      "bool breakpoint bytearray bytes cProfile calendar call callable\n",
      "cdate char check check_condition chr classmethod coded color_list\n",
      "color_list_1 color_list_2 compile complex copyright count credits data\n",
      "date1 date2 datetime day delattr dict diff diff_print\n",
      "dir dir_path display distance distance_converter divmod enumerate eprint\n",
      "eval exam_st_date exec exit f1 feet_to_cm file_name files\n",
      "files_list filter first_name float format frozenset future_amount gcd\n",
      "get_ipython getattr getpass glob globals hasattr hash help\n",
      "hex hist hour hypotenuse_calc id identity input int\n",
      "integer_add integer_add2 is_vowel isfile isinstance issubclass iter join\n",
      "l last_name lcm len license list list_of_colors list_to_str\n",
      "listdir locals m map math max memoryview min\n",
      "minutes multiprocessing n n1 n2 n3 n_copy near_thousand\n",
      "new_string next now num num1 numbers obj1 object\n",
      "oct open ord os p1 p2 path personal_details\n",
      "pi platform pow pressure_converter print print_function property quit\n",
      "radius range repr result reversed round s sec\n",
      "second second_converter set setattr site slice socket solve\n",
      "sort_three_integer sorted soundx staticmethod str str1 str2 str_enlarger\n",
      "str_to_float str_to_int string struct sum sum_2 sum_3 sum_calc\n",
      "sum_of_digits sum_of_first_n_numbers sum_of_n_numbers super sys terminal_size test textwrap\n",
      "time time_converter traceback triangle_area tuple type vars volume\n",
      "word x x1 x2 x_mid y y1 y2\n",
      "y_mid zip\n",
      "\n"
     ]
    }
   ],
   "source": [
    "# List of special variables (code copied form official solution):\n",
    "\n",
    "s_var_names = sorted((set(globals().keys()) | set(__builtins__.__dict__.keys())) - set('_ names i'.split()))\n",
    "print()\n",
    "print( '\\n'.join(' '.join(s_var_names[i:i+8]) for i in range(0, len(s_var_names), 8)) )\n",
    "print()"
   ]
  },
  {
   "cell_type": "markdown",
   "metadata": {},
   "source": [
    "## 98. Write a Python program to get the system time."
   ]
  },
  {
   "cell_type": "code",
   "execution_count": 110,
   "metadata": {},
   "outputs": [
    {
     "data": {
      "text/plain": [
       "'Wed Oct  9 17:19:32 2019'"
      ]
     },
     "execution_count": 110,
     "metadata": {},
     "output_type": "execute_result"
    }
   ],
   "source": [
    "import time\n",
    "time.ctime()"
   ]
  },
  {
   "cell_type": "markdown",
   "metadata": {},
   "source": [
    "## 99. Write a Python program to clear the screen or terminal. "
   ]
  },
  {
   "cell_type": "code",
   "execution_count": 111,
   "metadata": {},
   "outputs": [
    {
     "data": {
      "text/plain": [
       "0"
      ]
     },
     "execution_count": 111,
     "metadata": {},
     "output_type": "execute_result"
    }
   ],
   "source": [
    "import os, time\n",
    "\n",
    "os.system('ls')\n",
    "time.sleep(2)\n",
    "os.system('clear')     #for linux\n",
    "# os.system('cls')     #for windows"
   ]
  },
  {
   "cell_type": "markdown",
   "metadata": {},
   "source": [
    "## 100. Write a Python program to get the name of the host on which the routine is running."
   ]
  },
  {
   "cell_type": "code",
   "execution_count": 112,
   "metadata": {},
   "outputs": [
    {
     "data": {
      "text/plain": [
       "'SCL-L200816'"
      ]
     },
     "execution_count": 112,
     "metadata": {},
     "output_type": "execute_result"
    }
   ],
   "source": [
    "import socket\n",
    "socket.gethostname()"
   ]
  },
  {
   "cell_type": "markdown",
   "metadata": {},
   "source": [
    "## 101. Write a Python program to access and print a URL's content to the console. "
   ]
  },
  {
   "cell_type": "code",
   "execution_count": 113,
   "metadata": {},
   "outputs": [
    {
     "name": "stdout",
     "output_type": "stream",
     "text": [
      "b''\n"
     ]
    }
   ],
   "source": [
    "# Copied form official solution:\n",
    "\n",
    "from http.client import HTTPConnection\n",
    "conn = HTTPConnection(\"w3resource.com\")\n",
    "conn.request(\"GET\", \"/\")  \n",
    "result = conn.getresponse()\n",
    "# retrieves the entire contents.  \n",
    "contents = result.read() \n",
    "print(contents)"
   ]
  },
  {
   "cell_type": "markdown",
   "metadata": {},
   "source": [
    "## 102. Write a Python program to get system command output."
   ]
  },
  {
   "cell_type": "code",
   "execution_count": 114,
   "metadata": {},
   "outputs": [
    {
     "name": "stdout",
     "output_type": "stream",
     "text": [
      "Dir command to list file and directory: \n",
      "\n",
      " Volume in drive D is New Volume\n",
      " Volume Serial Number is A80B-0E54\n",
      "\n",
      " Directory of D:\\Personal\\Documents\n",
      "\n",
      "10/09/2019  05:18 PM    <DIR>          .\n",
      "10/09/2019  05:18 PM    <DIR>          ..\n",
      "10/09/2019  05:12 PM    <DIR>          .ipynb_checkpoints\n",
      "10/09/2019  05:18 PM           112,094 01_Basic Part-1 150 Exercises Solutions.ipynb\n",
      "10/03/2019  11:36 AM            51,126 Bangla Trac Experience Letter.pdf\n",
      "10/09/2019  05:14 PM                 0 file_41.txt\n",
      "10/08/2019  11:15 PM           138,489 Importing data_Python Cheat Sheet.pdf\n",
      "10/06/2019  10:55 PM           276,278 Mehedi_Data Scientist_Oct19.docx\n",
      "10/06/2019  10:56 PM           600,565 Mehedi_Data Scientist_Oct19.pdf\n",
      "10/08/2019  11:16 PM           692,452 Python Data Visualization- Bokeh Cheat Sheet.pdf\n",
      "10/08/2019  11:17 PM         1,227,810 spaCy Cheat Sheet - Advanced NLP in Python.pdf\n",
      "               8 File(s)      3,098,814 bytes\n",
      "               3 Dir(s)  836,251,590,656 bytes free\n",
      "\n"
     ]
    }
   ],
   "source": [
    "import subprocess\n",
    "\n",
    "# file and directory listing\n",
    "returned_text = subprocess.check_output(\"dir\", shell = True, universal_newlines = True)\n",
    "print(\"Dir command to list file and directory: \\n\")\n",
    "print(returned_text)"
   ]
  },
  {
   "cell_type": "markdown",
   "metadata": {},
   "source": [
    "## 103. Write a Python program to extract the filename from a given path."
   ]
  },
  {
   "cell_type": "code",
   "execution_count": 115,
   "metadata": {},
   "outputs": [
    {
     "data": {
      "text/plain": [
       "'file_41.txt'"
      ]
     },
     "execution_count": 115,
     "metadata": {},
     "output_type": "execute_result"
    }
   ],
   "source": [
    "import os\n",
    "\n",
    "os.path.basename('/kaggle/working/file_41.txt')"
   ]
  },
  {
   "cell_type": "markdown",
   "metadata": {},
   "source": [
    "## 104. Write a Python program to get the effective group id, effective user id, real group id, a list of supplemental group ids associated with the current process.\n",
    "\n",
    "Note: Availability: Unix."
   ]
  },
  {
   "cell_type": "code",
   "execution_count": 118,
   "metadata": {},
   "outputs": [
    {
     "data": {
      "text/plain": [
       "'\\nimport os\\n\\nprint(\"Effective group id: \",os.getegid())\\nprint(\"Effective user id: \",os.geteuid())\\nprint(\"Real group id: \",os.getgid())\\nprint(\"List of supplemental group ids: \",os.getgroups())\\n'"
      ]
     },
     "execution_count": 118,
     "metadata": {},
     "output_type": "execute_result"
    }
   ],
   "source": [
    "# Code works only in linux enviornment. Below code copied from official solution:\n",
    "\n",
    "'''\n",
    "import os\n",
    "\n",
    "print(\"Effective group id: \",os.getegid())\n",
    "print(\"Effective user id: \",os.geteuid())\n",
    "print(\"Real group id: \",os.getgid())\n",
    "print(\"List of supplemental group ids: \",os.getgroups())\n",
    "'''"
   ]
  },
  {
   "cell_type": "markdown",
   "metadata": {},
   "source": [
    "## 105. Write a Python program to get the users environment."
   ]
  },
  {
   "cell_type": "code",
   "execution_count": 119,
   "metadata": {},
   "outputs": [
    {
     "name": "stdout",
     "output_type": "stream",
     "text": [
      "environ({'ALIASES': 'D:\\\\Software\\\\Cmder\\\\cmder\\\\config\\\\user_aliases.cmd', 'ALLUSERSPROFILE': 'C:\\\\ProgramData', 'ANSICON': '101x1000 (101x20)', 'ANSICON_DEF': '7', 'APPDATA': 'C:\\\\Users\\\\mehedi.farazi\\\\AppData\\\\Roaming', 'ARCHITECTURE': '64', 'ARCHITECTURE_BITS': '64', 'CCALL': 'call D:\\\\Software\\\\Cmder\\\\cmder\\\\vendor\\\\bin\\\\cexec.cmd', 'CEXEC': 'D:\\\\Software\\\\Cmder\\\\cmder\\\\vendor\\\\bin\\\\cexec.cmd', 'CMDER_ALIASES': '1', 'CMDER_CLINK': '1', 'CMDER_CONFIGURED': '1', 'CMDER_INIT_END': '17:09:07.48', 'CMDER_INIT_START': '17:09:06.06', 'CMDER_ROOT': 'D:\\\\Software\\\\Cmder\\\\cmder', 'CMDER_SHELL': 'cmd', 'CMDER_USER_FLAGS': ' ', 'COMMONPROGRAMFILES': 'C:\\\\Program Files\\\\Common Files', 'COMMONPROGRAMFILES(X86)': 'C:\\\\Program Files (x86)\\\\Common Files', 'COMMONPROGRAMW6432': 'C:\\\\Program Files\\\\Common Files', 'COMPUTERNAME': 'SCL-L200816', 'COMSPEC': 'C:\\\\WINDOWS\\\\system32\\\\cmd.exe', 'CONEMUANSI': 'ON', 'CONEMUANSILOG': '', 'CONEMUBACKHWND': '0x00020382', 'CONEMUBASEDIR': 'D:\\\\Software\\\\Cmder\\\\cmder\\\\vendor\\\\conemu-maximus5\\\\ConEmu', 'CONEMUBASEDIRSHORT': 'D:\\\\Software\\\\Cmder\\\\cmder\\\\vendor\\\\conemu-maximus5\\\\ConEmu', 'CONEMUBUILD': '180626', 'CONEMUDIR': 'D:\\\\Software\\\\Cmder\\\\cmder\\\\vendor\\\\conemu-maximus5', 'CONEMUDRAWHWND': '0x00060376', 'CONEMUDRIVE': 'D:', 'CONEMUHOOKS': 'Enabled', 'CONEMUHWND': '0x00090372', 'CONEMUISADMIN': 'ADMIN', 'CONEMUPALETTE': 'Monokai', 'CONEMUPID': '10284', 'CONEMUSERVERPID': '6604', 'CONEMUTASK': '{cmd::Cmder}', 'CONEMUWORKDIR': 'D:\\\\Personal\\\\Documents', 'CONEMUWORKDRIVE': 'D:', 'DEBUG_OUTPUT': '0', 'DRIVERDATA': 'C:\\\\Windows\\\\System32\\\\Drivers\\\\DriverData', 'FAST_INIT': '0', 'FEFLAGNAME': ' ', 'GIT_INSTALL_ROOT': 'D:\\\\Software\\\\Cmder\\\\cmder\\\\vendor\\\\git-for-windows', 'HOME': 'C:\\\\Users\\\\mehedi.farazi', 'HOMEDRIVE': 'C:', 'HOMEPATH': '\\\\Users\\\\mehedi.farazi', 'LANG': 'en_US.UTF-8', 'LIB_BASE': 'call \"D:\\\\Software\\\\Cmder\\\\cmder\\\\vendor\\\\lib\\\\lib_base.cmd\"', 'LIB_CONSOLE': 'call \"D:\\\\Software\\\\Cmder\\\\cmder\\\\vendor\\\\lib\\\\lib_console.cmd\"', 'LIB_GIT': 'call \"D:\\\\Software\\\\Cmder\\\\cmder\\\\vendor\\\\lib\\\\lib_git.cmd\"', 'LIB_PATH': 'call \"D:\\\\Software\\\\Cmder\\\\cmder\\\\vendor\\\\lib\\\\lib_path.cmd\"', 'LIB_PROFILE': 'call \"D:\\\\Software\\\\Cmder\\\\cmder\\\\vendor\\\\lib\\\\lib_profile.cmd\"', 'LOCALAPPDATA': 'C:\\\\Users\\\\mehedi.farazi\\\\AppData\\\\Local', 'LOGONSERVER': '\\\\\\\\DC02', 'MAX_DEPTH': '1', 'NIX_TOOLS': '1', 'NUMBER_OF_PROCESSORS': '4', 'ONEDRIVE': 'C:\\\\Users\\\\mehedi.farazi\\\\OneDrive', 'OS': 'Windows_NT', 'PATH': 'D:\\\\Software\\\\Cmder\\\\cmder\\\\bin;D:\\\\Software\\\\Cmder\\\\cmder\\\\vendor\\\\bin;D:\\\\Software\\\\Cmder\\\\cmder\\\\vendor\\\\conemu-maximus5\\\\ConEmu\\\\Scripts;D:\\\\Software\\\\Cmder\\\\cmder\\\\vendor\\\\conemu-maximus5;D:\\\\Software\\\\Cmder\\\\cmder\\\\vendor\\\\conemu-maximus5\\\\ConEmu;C:\\\\ProgramData\\\\Anaconda3;C:\\\\ProgramData\\\\Anaconda3\\\\Library\\\\mingw-w64\\\\bin;C:\\\\ProgramData\\\\Anaconda3\\\\Library\\\\usr\\\\bin;C:\\\\ProgramData\\\\Anaconda3\\\\Library\\\\bin;C:\\\\ProgramData\\\\Anaconda3\\\\Scripts;C:\\\\WINDOWS\\\\system32;C:\\\\WINDOWS;C:\\\\WINDOWS\\\\System32\\\\Wbem;C:\\\\WINDOWS\\\\System32\\\\WindowsPowerShell\\\\v1.0\\\\;C:\\\\WINDOWS\\\\System32\\\\OpenSSH\\\\;C:\\\\xampp\\\\php;C:\\\\composer;C:\\\\Users\\\\mehedi.farazi\\\\AppData\\\\Local\\\\Microsoft\\\\WindowsApps;C:\\\\Users\\\\mehedi.farazi\\\\AppData\\\\Roaming\\\\Composer\\\\vendor\\\\bin;D:\\\\Software\\\\Cmder\\\\cmder\\\\vendor\\\\git-for-windows\\\\cmd;D:\\\\Software\\\\Cmder\\\\cmder\\\\vendor\\\\git-for-windows\\\\mingw64\\\\bin;D:\\\\Software\\\\Cmder\\\\cmder\\\\vendor\\\\git-for-windows\\\\usr\\\\bin;D:\\\\Software\\\\Cmder\\\\cmder', 'PATHEXT': '.COM;.EXE;.BAT;.CMD;.VBS;.VBE;.JS;.JSE;.WSF;.WSH;.MSC', 'PLINK_PROTOCOL': 'ssh', 'PROCESSOR_ARCHITECTURE': 'AMD64', 'PROCESSOR_IDENTIFIER': 'Intel64 Family 6 Model 142 Stepping 10, GenuineIntel', 'PROCESSOR_LEVEL': '6', 'PROCESSOR_REVISION': '8e0a', 'PROGRAMDATA': 'C:\\\\ProgramData', 'PROGRAMFILES': 'C:\\\\Program Files', 'PROGRAMFILES(X86)': 'C:\\\\Program Files (x86)', 'PROGRAMW6432': 'C:\\\\Program Files', 'PROMPT': 'C\\x08L\\x08I\\x08N\\x08K\\x08 \\x08$P$G', 'PSMODULEPATH': 'C:\\\\Program Files\\\\WindowsPowerShell\\\\Modules;C:\\\\WINDOWS\\\\system32\\\\WindowsPowerShell\\\\v1.0\\\\Modules', 'PUBLIC': 'C:\\\\Users\\\\Public', 'SVN_SSH': 'D:\\\\\\\\Software\\\\\\\\Cmder\\\\\\\\cmder\\\\\\\\vendor\\\\\\\\git-for-windows\\\\\\\\bin\\\\\\\\ssh.exe', 'SYSTEMDRIVE': 'C:', 'SYSTEMROOT': 'C:\\\\WINDOWS', 'TEMP': 'C:\\\\Users\\\\MEHEDI~1.FAR\\\\AppData\\\\Local\\\\Temp', 'TERM': 'xterm-color', 'TIME_INIT': '0', 'TMP': 'C:\\\\Users\\\\MEHEDI~1.FAR\\\\AppData\\\\Local\\\\Temp', 'USERDNSDOMAIN': 'SUMMITCOMMUNICATIONS.NET', 'USERDOMAIN': 'SUMMITCOMMUNICA', 'USERDOMAIN_ROAMINGPROFILE': 'SUMMITCOMMUNICA', 'USERNAME': 'mehedi.farazi', 'USERPROFILE': 'C:\\\\Users\\\\mehedi.farazi', 'USER_ALIASES': 'D:\\\\Software\\\\Cmder\\\\cmder\\\\config\\\\user_aliases.cmd', 'VERBOSE_OUTPUT': '0', 'WINDIR': 'C:\\\\WINDOWS', '__COMPAT_LAYER': 'Installer', 'KERNEL_LAUNCH_TIMEOUT': '40', 'JPY_INTERRUPT_EVENT': '2424', 'IPY_INTERRUPT_EVENT': '2424', 'JPY_PARENT_PID': '2416', 'CLICOLOR': '1', 'PAGER': 'cat', 'GIT_PAGER': 'cat', 'MPLBACKEND': 'module://ipykernel.pylab.backend_inline'})\n"
     ]
    }
   ],
   "source": [
    "import os\n",
    "\n",
    "print(os.environ)"
   ]
  },
  {
   "cell_type": "markdown",
   "metadata": {},
   "source": [
    "## 106. Write a Python program to divide a path on the extension separator."
   ]
  },
  {
   "cell_type": "code",
   "execution_count": 120,
   "metadata": {},
   "outputs": [
    {
     "name": "stdout",
     "output_type": "stream",
     "text": [
      "\"abc.txt\" : ('abc', '.txt')\n",
      "\"filename\" : ('filename', '')\n",
      "\"/user/system/test.txt\" : ('/user/system/test', '.txt')\n",
      "\"/\" : ('/', '')\n",
      "\"\" : ('', '')\n"
     ]
    }
   ],
   "source": [
    "import os.path\n",
    "\n",
    "for path in [ 'abc.txt', 'filename', '/user/system/test.txt', '/', '' ]:\n",
    "    print('\"%s\" :' % path, os.path.splitext(path))"
   ]
  },
  {
   "cell_type": "markdown",
   "metadata": {},
   "source": [
    "## 107. Write a Python program to retrieve file properties. "
   ]
  },
  {
   "cell_type": "code",
   "execution_count": 123,
   "metadata": {},
   "outputs": [
    {
     "data": {
      "text/plain": [
       "\"\\nimport os.path\\nimport time\\n\\nprint('File         :', __file__)\\nprint('Access time  :', time.ctime(os.path.getatime(__file__)))\\nprint('Modified time:', time.ctime(os.path.getmtime(__file__)))\\nprint('Change time  :', time.ctime(os.path.getctime(__file__)))\\nprint('Size         :', os.path.getsize(__file__))\\n\""
      ]
     },
     "execution_count": 123,
     "metadata": {},
     "output_type": "execute_result"
    }
   ],
   "source": [
    "# Code copied for official solution:\n",
    "\n",
    "# Code not working:\n",
    "\n",
    "'''\n",
    "import os.path\n",
    "import time\n",
    "\n",
    "print('File         :', __file__)\n",
    "print('Access time  :', time.ctime(os.path.getatime(__file__)))\n",
    "print('Modified time:', time.ctime(os.path.getmtime(__file__)))\n",
    "print('Change time  :', time.ctime(os.path.getctime(__file__)))\n",
    "print('Size         :', os.path.getsize(__file__))\n",
    "'''"
   ]
  },
  {
   "cell_type": "markdown",
   "metadata": {},
   "source": [
    "## 108. Write a Python program to find path refers to a file or directory when you encounter a path name."
   ]
  },
  {
   "cell_type": "code",
   "execution_count": 124,
   "metadata": {},
   "outputs": [
    {
     "ename": "NameError",
     "evalue": "name '__file__' is not defined",
     "output_type": "error",
     "traceback": [
      "\u001b[1;31m---------------------------------------------------------------------------\u001b[0m",
      "\u001b[1;31mNameError\u001b[0m                                 Traceback (most recent call last)",
      "\u001b[1;32m<ipython-input-124-bd821a28c212>\u001b[0m in \u001b[0;36m<module>\u001b[1;34m\u001b[0m\n\u001b[0;32m      3\u001b[0m \u001b[1;32mimport\u001b[0m \u001b[0mos\u001b[0m\u001b[1;33m.\u001b[0m\u001b[0mpath\u001b[0m\u001b[1;33m\u001b[0m\u001b[1;33m\u001b[0m\u001b[0m\n\u001b[0;32m      4\u001b[0m \u001b[1;33m\u001b[0m\u001b[0m\n\u001b[1;32m----> 5\u001b[1;33m \u001b[1;32mfor\u001b[0m \u001b[0mfile\u001b[0m \u001b[1;32min\u001b[0m \u001b[1;33m[\u001b[0m \u001b[0m__file__\u001b[0m\u001b[1;33m,\u001b[0m \u001b[0mos\u001b[0m\u001b[1;33m.\u001b[0m\u001b[0mpath\u001b[0m\u001b[1;33m.\u001b[0m\u001b[0mdirname\u001b[0m\u001b[1;33m(\u001b[0m\u001b[0m__file__\u001b[0m\u001b[1;33m)\u001b[0m\u001b[1;33m,\u001b[0m \u001b[1;34m'/'\u001b[0m\u001b[1;33m,\u001b[0m \u001b[1;34m'./broken_link'\u001b[0m\u001b[1;33m]\u001b[0m\u001b[1;33m:\u001b[0m\u001b[1;33m\u001b[0m\u001b[1;33m\u001b[0m\u001b[0m\n\u001b[0m\u001b[0;32m      6\u001b[0m     \u001b[0mprint\u001b[0m\u001b[1;33m(\u001b[0m\u001b[1;34m'File        :'\u001b[0m\u001b[1;33m,\u001b[0m \u001b[0mfile\u001b[0m\u001b[1;33m)\u001b[0m\u001b[1;33m\u001b[0m\u001b[1;33m\u001b[0m\u001b[0m\n\u001b[0;32m      7\u001b[0m     \u001b[0mprint\u001b[0m\u001b[1;33m(\u001b[0m\u001b[1;34m'Absolute    :'\u001b[0m\u001b[1;33m,\u001b[0m \u001b[0mos\u001b[0m\u001b[1;33m.\u001b[0m\u001b[0mpath\u001b[0m\u001b[1;33m.\u001b[0m\u001b[0misabs\u001b[0m\u001b[1;33m(\u001b[0m\u001b[0mfile\u001b[0m\u001b[1;33m)\u001b[0m\u001b[1;33m)\u001b[0m\u001b[1;33m\u001b[0m\u001b[1;33m\u001b[0m\u001b[0m\n",
      "\u001b[1;31mNameError\u001b[0m: name '__file__' is not defined"
     ]
    }
   ],
   "source": [
    "# Code copied for official solution:\n",
    "\n",
    "import os.path\n",
    "\n",
    "for file in [ __file__, os.path.dirname(__file__), '/', './broken_link']:\n",
    "    print('File        :', file)\n",
    "    print('Absolute    :', os.path.isabs(file))\n",
    "    print('Is File?    :', os.path.isfile(file))\n",
    "    print('Is Dir?     :', os.path.isdir(file))\n",
    "    print('Is Link?    :', os.path.islink(file))\n",
    "    print('Exists?     :', os.path.exists(file))\n",
    "    print('Link Exists?:', os.path.lexists(file))"
   ]
  },
  {
   "cell_type": "markdown",
   "metadata": {},
   "source": [
    "## 109. Write a Python program to check if a number is positive, negative or zero. "
   ]
  },
  {
   "cell_type": "code",
   "execution_count": null,
   "metadata": {},
   "outputs": [],
   "source": [
    "def check_number(n):\n",
    "    if n > 0:\n",
    "        return 'Positive'\n",
    "    elif n < 0:\n",
    "        return 'Negative'\n",
    "    else:\n",
    "        return 'Zero'\n",
    "    \n",
    "check_number(4)"
   ]
  },
  {
   "cell_type": "markdown",
   "metadata": {},
   "source": [
    "## 110. Write a Python program to get numbers divisible by fifteen from a list using an anonymous function."
   ]
  },
  {
   "cell_type": "code",
   "execution_count": null,
   "metadata": {},
   "outputs": [],
   "source": [
    "num_list = [45, 55, 60, 37, 100, 105, 220]\n",
    "\n",
    "list(filter(lambda x: (x % 15 == 0), num_list))"
   ]
  },
  {
   "cell_type": "markdown",
   "metadata": {},
   "source": [
    "## 111. Write a Python program to make file lists from current directory using a wildcard."
   ]
  },
  {
   "cell_type": "code",
   "execution_count": null,
   "metadata": {},
   "outputs": [],
   "source": [
    "import glob\n",
    "\n",
    "file_lists = glob.glob('*.*')\n",
    "file_lists"
   ]
  },
  {
   "cell_type": "markdown",
   "metadata": {},
   "source": [
    "## 112. Write a Python program to remove the first item from a specified list."
   ]
  },
  {
   "cell_type": "code",
   "execution_count": null,
   "metadata": {},
   "outputs": [],
   "source": [
    "# Solution 1:\n",
    "\n",
    "list1 = [ 1, 2, 3, 4, 5, 6 ] \n",
    "\n",
    "list1.pop(0)    # pop() removes and returns last value from the list or the given index value.\n",
    "list1"
   ]
  },
  {
   "cell_type": "code",
   "execution_count": null,
   "metadata": {},
   "outputs": [],
   "source": [
    "# Solution 2:\n",
    "\n",
    "list1 = [ 1, 2, 3, 4, 5, 6 ] \n",
    "del list1[0]\n",
    "list1"
   ]
  },
  {
   "cell_type": "markdown",
   "metadata": {},
   "source": [
    "## 113. Write a Python program to input a number, if it is not a number generate an error message."
   ]
  },
  {
   "cell_type": "code",
   "execution_count": null,
   "metadata": {},
   "outputs": [],
   "source": [
    "while True:\n",
    "    try:  \n",
    "        a = float(input('Enter a number: '))\n",
    "        print('Input number is:', a)\n",
    "        break\n",
    "    except ValueError:\n",
    "        print('Provided input is not a number. Please try again!')"
   ]
  },
  {
   "cell_type": "markdown",
   "metadata": {},
   "source": [
    "## 114. Write a Python program to filter the positive numbers from a list. "
   ]
  },
  {
   "cell_type": "code",
   "execution_count": null,
   "metadata": {},
   "outputs": [],
   "source": [
    "list1 = [34, 1, 0, -23]\n",
    "\n",
    "positive_numbers = [l for l in list1 if l > 0]\n",
    "print('Extracted positive numbers:', positive_numbers)"
   ]
  },
  {
   "cell_type": "markdown",
   "metadata": {},
   "source": [
    "## 115. Write a Python program to compute the product of a list of integers (without using for loop).\n",
    "\n",
    "The `reduce()` function accepts a function and a sequence and returns a single value calculated as follows:\n",
    "\n",
    "- Initially, the function is called with the first two items from the sequence and the result is returned.\n",
    "- The function is then called again with the result obtained in step 1 and the next value in the sequence. This process keeps repeating until there are items in the sequence.\n",
    "\n",
    "**reduce(function, sequence[, initial]) -> value**"
   ]
  },
  {
   "cell_type": "code",
   "execution_count": null,
   "metadata": {},
   "outputs": [],
   "source": [
    "from functools import reduce\n",
    "\n",
    "nums = [10, 20, 30]\n",
    "product = lambda a, b: a * b\n",
    "reduce(product, nums)          # First it calculates 10 * 20 = 200. Then it calculates 200 * 30 = 6000 and returns it."
   ]
  },
  {
   "cell_type": "markdown",
   "metadata": {},
   "source": [
    "## 116. Write a Python program to print Unicode characters."
   ]
  },
  {
   "cell_type": "code",
   "execution_count": null,
   "metadata": {},
   "outputs": [],
   "source": [
    "unicode = u'\\u0050\\u0079\\u0074\\u0068\\u006f\\u006e \\u0045\\u0078\\u0065\\u0072\\u0063\\u0069\\u0073\\u0065\\u0073 \\u002d \\u0077\\u0033\\u0072\\u0065\\u0073\\u006f\\u0075\\u0072\\u0063\\u0065'\n",
    "print(unicode)"
   ]
  },
  {
   "cell_type": "markdown",
   "metadata": {},
   "source": [
    "## 117. Write a Python program to prove that two string variables of same value point same memory location. "
   ]
  },
  {
   "cell_type": "code",
   "execution_count": null,
   "metadata": {},
   "outputs": [],
   "source": [
    "str1 = 'Python'\n",
    "str2 = 'Python'\n",
    "\n",
    "print('Memory location of str1:', hex(id(str1)))\n",
    "print('Memory location of str2:', hex(id(str2)))"
   ]
  },
  {
   "cell_type": "markdown",
   "metadata": {},
   "source": [
    "## 118. Write a Python program to create a bytearray from a list.\n",
    "\n",
    "The `bytearray()` method returns a bytearray object which is a mutable (can be modified) sequence of integers in the range 0 <=x < 256 i.e. it return a new array of bytes.\n",
    "\n",
    "If we want the immutable version, we need to use `bytes()` method.\n",
    "\n",
    "- More Reading:\n",
    "    - [https://www.w3resource.com/python/python-bytes.php](https://www.w3resource.com/python/python-bytes.php)\n",
    "    - [https://www.programiz.com/python-programming/methods/built-in/bytearray](https://www.programiz.com/python-programming/methods/built-in/bytearray)"
   ]
  },
  {
   "cell_type": "code",
   "execution_count": null,
   "metadata": {},
   "outputs": [],
   "source": [
    "nums = [10, 20, 56, 35, 17, 99]\n",
    "\n",
    "b = bytearray(nums)\n",
    "b\n",
    "# for x in b:\n",
    "#     print(x)"
   ]
  },
  {
   "cell_type": "markdown",
   "metadata": {},
   "source": [
    "## 119. Write a Python program to display a floating number in specified numbers."
   ]
  },
  {
   "cell_type": "code",
   "execution_count": null,
   "metadata": {},
   "outputs": [],
   "source": [
    "pi = 3.1416\n",
    "\n",
    "print('%.0f' %pi)\n",
    "print('%.1f' %pi)\n",
    "print('%.2f' %pi)"
   ]
  },
  {
   "cell_type": "markdown",
   "metadata": {},
   "source": [
    "## 120. Write a Python program to format a specified string to limit the number of characters to 6. "
   ]
  },
  {
   "cell_type": "code",
   "execution_count": 125,
   "metadata": {},
   "outputs": [
    {
     "name": "stdout",
     "output_type": "stream",
     "text": [
      "A quic\n",
      "123456\n"
     ]
    }
   ],
   "source": [
    "string1 = 'A quick brown fox.'\n",
    "\n",
    "# Solution 1:\n",
    "print(string1[:6])\n",
    "\n",
    "# Solution 2:\n",
    "string2 = '123456789'\n",
    "print('%.6s'%string2)"
   ]
  },
  {
   "cell_type": "markdown",
   "metadata": {},
   "source": [
    "## 121. Write a Python program to determine if variable is defined or not."
   ]
  },
  {
   "cell_type": "code",
   "execution_count": 126,
   "metadata": {},
   "outputs": [
    {
     "name": "stdout",
     "output_type": "stream",
     "text": [
      "Variable is defined.\n",
      "Variable is defined.\n"
     ]
    }
   ],
   "source": [
    "try:\n",
    "    x = 1\n",
    "except NameError:\n",
    "    print('Variable is not defined.')\n",
    "else:\n",
    "    print('Variable is defined.')\n",
    "    \n",
    "try:\n",
    "    y\n",
    "except NameError:\n",
    "    print('Variable is not defined.')\n",
    "else:\n",
    "    print('Variable is defined.')"
   ]
  },
  {
   "cell_type": "markdown",
   "metadata": {},
   "source": [
    "## 122. Write a Python program to empty a variable without destroying it.\n",
    "\n",
    "Sample data: n=20  \n",
    "d = {\"x\":200}  \n",
    "Expected Output : 0  \n",
    "{}"
   ]
  },
  {
   "cell_type": "code",
   "execution_count": 127,
   "metadata": {},
   "outputs": [
    {
     "name": "stdout",
     "output_type": "stream",
     "text": [
      "0\n",
      "{}\n",
      "[]\n",
      "()\n"
     ]
    }
   ],
   "source": [
    "n = 20\n",
    "d = {\"x\" : 200}\n",
    "l = [1, 3, 5]\n",
    "t= (5, 7, 8)\n",
    "\n",
    "print(type(n)())\n",
    "print(type(d)())\n",
    "print(type(l)())\n",
    "print(type(t)()) "
   ]
  },
  {
   "cell_type": "markdown",
   "metadata": {},
   "source": [
    "## 123. Write a Python program to determine the largest and smallest integers, longs, floats."
   ]
  },
  {
   "cell_type": "code",
   "execution_count": 128,
   "metadata": {},
   "outputs": [
    {
     "name": "stdout",
     "output_type": "stream",
     "text": [
      "Float value information: sys.float_info(max=1.7976931348623157e+308, max_exp=1024, max_10_exp=308, min=2.2250738585072014e-308, min_exp=-1021, min_10_exp=-307, dig=15, mant_dig=53, epsilon=2.220446049250313e-16, radix=2, rounds=1)\n",
      "\n",
      "Integer value information: sys.int_info(bits_per_digit=30, sizeof_digit=4)\n",
      "\n",
      "Maximum size of an integer: 9223372036854775807\n"
     ]
    }
   ],
   "source": [
    "import sys\n",
    "\n",
    "print(\"Float value information:\", sys.float_info)\n",
    "print(\"\\nInteger value information:\", sys.int_info)\n",
    "print(\"\\nMaximum size of an integer:\", sys.maxsize) "
   ]
  },
  {
   "cell_type": "markdown",
   "metadata": {},
   "source": [
    "## 124. Write a Python program to check if multiple variables have the same value."
   ]
  },
  {
   "cell_type": "code",
   "execution_count": 129,
   "metadata": {},
   "outputs": [
    {
     "name": "stdout",
     "output_type": "stream",
     "text": [
      "All variables have same value.\n"
     ]
    }
   ],
   "source": [
    "x = 10\n",
    "y = 10\n",
    "z = 10\n",
    "\n",
    "if x == y == z:\n",
    "    print('All variables have same value.')\n",
    "else:\n",
    "    print('All variables do not have same vlaue.')"
   ]
  },
  {
   "cell_type": "markdown",
   "metadata": {},
   "source": [
    "## 125. Write a Python program to sum of all counts in a collections?"
   ]
  },
  {
   "cell_type": "code",
   "execution_count": 140,
   "metadata": {},
   "outputs": [
    {
     "data": {
      "text/plain": [
       "dict_values([2, 2, 3, 1, 1])"
      ]
     },
     "execution_count": 140,
     "metadata": {},
     "output_type": "execute_result"
    }
   ],
   "source": [
    "import collections\n",
    "\n",
    "num = [2, 2, 4, 6, 6, 8, 6, 10, 4]\n",
    "collections.Counter(num).values()"
   ]
  },
  {
   "cell_type": "markdown",
   "metadata": {},
   "source": [
    "## 126. Write a Python program to get the actual module object for a given object."
   ]
  },
  {
   "cell_type": "code",
   "execution_count": 141,
   "metadata": {},
   "outputs": [
    {
     "name": "stdout",
     "output_type": "stream",
     "text": [
      "<module 'math' (built-in)>\n"
     ]
    }
   ],
   "source": [
    "from inspect import getmodule\n",
    "from math import sqrt\n",
    "\n",
    "print(getmodule(sqrt))"
   ]
  },
  {
   "cell_type": "markdown",
   "metadata": {},
   "source": [
    "## 127. Write a Python program to check if an integer fits in 64 bits. "
   ]
  },
  {
   "cell_type": "code",
   "execution_count": 142,
   "metadata": {},
   "outputs": [
    {
     "name": "stdout",
     "output_type": "stream",
     "text": [
      "64\n",
      "64\n"
     ]
    }
   ],
   "source": [
    "# Copied for official solution:\n",
    "\n",
    "int_val = 30\n",
    "if int_val.bit_length() <= 63:\n",
    "    print((-2 ** 63).bit_length())\n",
    "    print((2 ** 63).bit_length())"
   ]
  },
  {
   "cell_type": "markdown",
   "metadata": {},
   "source": [
    "## 128. Write a Python program to check if lowercase letters exist in a string."
   ]
  },
  {
   "cell_type": "code",
   "execution_count": 143,
   "metadata": {},
   "outputs": [
    {
     "data": {
      "text/plain": [
       "True"
      ]
     },
     "execution_count": 143,
     "metadata": {},
     "output_type": "execute_result"
    }
   ],
   "source": [
    "str1 = 'AaQUICK'              \n",
    "\n",
    "any(c.islower() for c in str1)      # Return True if bool(c) is True for any c in the iterable."
   ]
  },
  {
   "cell_type": "markdown",
   "metadata": {},
   "source": [
    "## 129. Write a Python program to add leading zeroes to a string. "
   ]
  },
  {
   "cell_type": "code",
   "execution_count": 144,
   "metadata": {},
   "outputs": [
    {
     "name": "stdout",
     "output_type": "stream",
     "text": [
      "122.2200\n",
      "00122.22\n"
     ]
    }
   ],
   "source": [
    "# I am not sure about adding leading 0 whether to left or right side of original string. That's why I printed both. \n",
    "\n",
    "str1 = '122.22'\n",
    "\n",
    "print(str1.ljust(8, '0'))\n",
    "print(str1.rjust(8, '0'))"
   ]
  },
  {
   "cell_type": "markdown",
   "metadata": {},
   "source": [
    "## 130. Write a Python program to use double quotes to display strings."
   ]
  },
  {
   "cell_type": "code",
   "execution_count": 145,
   "metadata": {},
   "outputs": [
    {
     "name": "stdout",
     "output_type": "stream",
     "text": [
      "\"Using double quotes to display string.\"\n"
     ]
    }
   ],
   "source": [
    "# Solution 1:\n",
    "\n",
    "print('\"Using double quotes to display string.\"')"
   ]
  },
  {
   "cell_type": "code",
   "execution_count": 146,
   "metadata": {},
   "outputs": [
    {
     "data": {
      "text/plain": [
       "'{\"Mehedi\": 1, \"Farazi\": 3, \"Afzal\": 2}'"
      ]
     },
     "execution_count": 146,
     "metadata": {},
     "output_type": "execute_result"
    }
   ],
   "source": [
    "# Solution 2:\n",
    "\n",
    "import json\n",
    "json.dumps({'Mehedi': 1, 'Farazi': 3, 'Afzal': 2})"
   ]
  },
  {
   "cell_type": "markdown",
   "metadata": {},
   "source": [
    "## 131. Write a Python program to split a variable length string into variables. "
   ]
  },
  {
   "cell_type": "code",
   "execution_count": 147,
   "metadata": {},
   "outputs": [
    {
     "name": "stdout",
     "output_type": "stream",
     "text": [
      "a b c\n",
      "a b c\n"
     ]
    }
   ],
   "source": [
    "# Solution 1:\n",
    "var_list = ['a', 'b', 'c']\n",
    "x, y, z = var_list\n",
    "print(x, y, z)\n",
    "\n",
    "# Solution 2:\n",
    "var_list = ['a', 'b', 'c']\n",
    "x, y, z = (var_list + [None] * 3)[:3]\n",
    "print(x, y, z)\n",
    "\n",
    "\n",
    "# (var_list + [None] * 3)     # Output: ['a', 'b', 'c', None, None, None]"
   ]
  },
  {
   "cell_type": "markdown",
   "metadata": {},
   "source": [
    "## 132. Write a Python program to list home directory without absolute path."
   ]
  },
  {
   "cell_type": "code",
   "execution_count": 148,
   "metadata": {},
   "outputs": [
    {
     "data": {
      "text/plain": [
       "'C:\\\\Users\\\\mehedi.farazi'"
      ]
     },
     "execution_count": 148,
     "metadata": {},
     "output_type": "execute_result"
    }
   ],
   "source": [
    "import os.path\n",
    "\n",
    "os.path.expanduser('~')"
   ]
  },
  {
   "cell_type": "markdown",
   "metadata": {},
   "source": [
    "## 133. Write a Python program to calculate the time runs (difference between start and current time) of a program."
   ]
  },
  {
   "cell_type": "code",
   "execution_count": 149,
   "metadata": {},
   "outputs": [
    {
     "name": "stdout",
     "output_type": "stream",
     "text": [
      "Sum: 10\n",
      "Run times: 0.0019819000000325104\n"
     ]
    }
   ],
   "source": [
    "from timeit import default_timer\n",
    "\n",
    "def timer(n):\n",
    "    s = 0\n",
    "    start = default_timer()\n",
    "    for i in range(1, n):\n",
    "        s += i\n",
    "    print('Sum:', s)\n",
    "    \n",
    "    print('Run times:', default_timer() - start)\n",
    "\n",
    "timer(5)"
   ]
  },
  {
   "cell_type": "markdown",
   "metadata": {},
   "source": [
    "## 134. Write a Python program to input two integers in a single line."
   ]
  },
  {
   "cell_type": "code",
   "execution_count": 150,
   "metadata": {},
   "outputs": [
    {
     "name": "stdout",
     "output_type": "stream",
     "text": [
      "3 4\n",
      "x = 3\n",
      "y = 4\n"
     ]
    }
   ],
   "source": [
    "x, y = map(int, input().split())\n",
    "print('x = {}\\ny = {}'.format(x,y))"
   ]
  },
  {
   "cell_type": "markdown",
   "metadata": {},
   "source": [
    "## 135. Write a Python program to print a variable without spaces between values."
   ]
  },
  {
   "cell_type": "code",
   "execution_count": 151,
   "metadata": {},
   "outputs": [
    {
     "name": "stdout",
     "output_type": "stream",
     "text": [
      "Value of x is: 30\n"
     ]
    }
   ],
   "source": [
    "x = 30\n",
    "\n",
    "print('Value of x is: {}'.format(x))"
   ]
  },
  {
   "cell_type": "markdown",
   "metadata": {},
   "source": [
    "## 136. Write a Python program to find files and skip directories of a given directory."
   ]
  },
  {
   "cell_type": "code",
   "execution_count": 154,
   "metadata": {},
   "outputs": [
    {
     "name": "stdout",
     "output_type": "stream",
     "text": [
      "['FB Cache Analysis 01102019_F.xlsx']\n"
     ]
    }
   ],
   "source": [
    "# Copied form official solution:\n",
    "\n",
    "import os\n",
    "\n",
    "print([f for f in os.listdir('D:\\SCL\\Files') if os.path.isfile(os.path.join('D:\\SCL\\Files', f))])"
   ]
  },
  {
   "cell_type": "markdown",
   "metadata": {},
   "source": [
    "## 137. Write a Python program to extract single key-value pair of a dictionary in variables"
   ]
  },
  {
   "cell_type": "code",
   "execution_count": 155,
   "metadata": {},
   "outputs": [
    {
     "name": "stdout",
     "output_type": "stream",
     "text": [
      "Red\n",
      "Green\n"
     ]
    }
   ],
   "source": [
    "# Copied for official solution:\n",
    "\n",
    "d = {'Red': 'Green'}\n",
    "\n",
    "(c1, c2), = d.items()\n",
    "print(c1)\n",
    "print(c2)"
   ]
  },
  {
   "cell_type": "markdown",
   "metadata": {},
   "source": [
    "## 138. Write a Python program to convert true to 1 and false to 0. "
   ]
  },
  {
   "cell_type": "code",
   "execution_count": 156,
   "metadata": {},
   "outputs": [
    {
     "name": "stdout",
     "output_type": "stream",
     "text": [
      "1\n",
      "0\n"
     ]
    }
   ],
   "source": [
    "def converter(input_value):\n",
    "    if input_value == 'true':\n",
    "        return 1\n",
    "    else:\n",
    "        return 0\n",
    "    \n",
    "print(converter('true'))\n",
    "print(converter('false'))"
   ]
  },
  {
   "cell_type": "markdown",
   "metadata": {},
   "source": [
    "## 139. Write a Python program to valid a IP address. "
   ]
  },
  {
   "cell_type": "code",
   "execution_count": 157,
   "metadata": {},
   "outputs": [
    {
     "name": "stdout",
     "output_type": "stream",
     "text": [
      "Valid IP address.\n"
     ]
    }
   ],
   "source": [
    "import socket\n",
    "\n",
    "addr = '172.16.10.27'\n",
    "try:\n",
    "    socket.inet_aton(addr)\n",
    "    print('Valid IP address.')\n",
    "except socket.error:\n",
    "    print('Invalid IP')\n",
    "    \n",
    "# inet_aton(string) -> bytes giving packed 32-bit IP representation\n",
    "\n",
    "# Convert an IP address in string format (123.45.67.89) to the 32-bit packed binary format \n",
    "# used in low-level network functions."
   ]
  },
  {
   "cell_type": "markdown",
   "metadata": {},
   "source": [
    "## 140. Write a Python program to convert an integer to binary keep leading zeros. "
   ]
  },
  {
   "cell_type": "code",
   "execution_count": 158,
   "metadata": {},
   "outputs": [
    {
     "name": "stdout",
     "output_type": "stream",
     "text": [
      "00001100\n",
      "0000001100\n"
     ]
    }
   ],
   "source": [
    "x = 12\n",
    "\n",
    "# converted integer into binary having total length of 8. Unused left digits will be filled with 0\n",
    "print(format(x, '08b'))      \n",
    "print(format(x, '010b'))"
   ]
  },
  {
   "cell_type": "markdown",
   "metadata": {},
   "source": [
    "## 141. Write a python program to convert decimal to hexadecimal.\n",
    "\n",
    "![Decimal to Hexadecimal](https://www.w3resource.com/w3r_images/python-basic-image-exercise-141.png)"
   ]
  },
  {
   "cell_type": "code",
   "execution_count": 159,
   "metadata": {},
   "outputs": [
    {
     "name": "stdout",
     "output_type": "stream",
     "text": [
      "1e\n",
      "4e8\n",
      "04\n"
     ]
    }
   ],
   "source": [
    "def decimal_to_hex(n):\n",
    "    return format(n, '02x')\n",
    "\n",
    "print(decimal_to_hex(30))\n",
    "print(decimal_to_hex(1256))\n",
    "print(decimal_to_hex(4))"
   ]
  },
  {
   "cell_type": "markdown",
   "metadata": {},
   "source": [
    "## 142. Write a Python program to find the operating system name, platform and platform release date."
   ]
  },
  {
   "cell_type": "code",
   "execution_count": 160,
   "metadata": {},
   "outputs": [
    {
     "name": "stdout",
     "output_type": "stream",
     "text": [
      "Operating system name:\t\t   nt\n",
      "Operating system platform name:\t   Windows\n",
      "Operating system platform release: 10\n"
     ]
    }
   ],
   "source": [
    "import os, platform\n",
    "\n",
    "print('Operating system name:\\t\\t  ', os.name)\n",
    "print('Operating system platform name:\\t  ',platform.system())\n",
    "print('Operating system platform release:',platform.release())"
   ]
  },
  {
   "cell_type": "markdown",
   "metadata": {},
   "source": [
    "## 143. Write a Python program to determine if the python shell is executing in 32bit or 64bit mode on operating system."
   ]
  },
  {
   "cell_type": "code",
   "execution_count": 161,
   "metadata": {},
   "outputs": [
    {
     "data": {
      "text/plain": [
       "64"
      ]
     },
     "execution_count": 161,
     "metadata": {},
     "output_type": "execute_result"
    }
   ],
   "source": [
    "import struct\n",
    "\n",
    "struct.calcsize('P' * 8)"
   ]
  },
  {
   "cell_type": "markdown",
   "metadata": {},
   "source": [
    "## 144. Write a Python program to check if variable is of integer or string. "
   ]
  },
  {
   "cell_type": "code",
   "execution_count": 162,
   "metadata": {},
   "outputs": [
    {
     "name": "stdout",
     "output_type": "stream",
     "text": [
      "True\n"
     ]
    }
   ],
   "source": [
    "# Copied from official solution - (Not working well for commented lines of codes)\n",
    "\n",
    "print(isinstance(144, int) or isinstance(144, str))\n",
    "# print(isinstance([25],int) or isinstance([25],str))\n",
    "# print(isinstance(\"25\",int) or isinstance(\"25\",str))"
   ]
  },
  {
   "cell_type": "markdown",
   "metadata": {},
   "source": [
    "## 145. Write a Python program to test if a variable is a list or tuple or a set."
   ]
  },
  {
   "cell_type": "code",
   "execution_count": 163,
   "metadata": {},
   "outputs": [
    {
     "name": "stdout",
     "output_type": "stream",
     "text": [
      "Variable x is of set format.\n"
     ]
    }
   ],
   "source": [
    "x = {1, True, 'v'}\n",
    "\n",
    "if type(x) == list:\n",
    "    print('Variable x is of list format.')\n",
    "elif type(x) == tuple:\n",
    "    print('Variable x is of tuple format.')\n",
    "elif type(x) == set:\n",
    "    print('Variable x is of set format.')\n",
    "else:\n",
    "    print('The variable x is of some other format.')"
   ]
  },
  {
   "cell_type": "markdown",
   "metadata": {},
   "source": [
    "## 146. Write a Python program to find the location of Python module sources."
   ]
  },
  {
   "cell_type": "code",
   "execution_count": 164,
   "metadata": {},
   "outputs": [
    {
     "name": "stdout",
     "output_type": "stream",
     "text": [
      "List of directories in sys module:\n",
      "\n",
      "['D:\\\\Personal\\\\Documents', 'C:\\\\ProgramData\\\\Anaconda3\\\\python37.zip', 'C:\\\\ProgramData\\\\Anaconda3\\\\DLLs', 'C:\\\\ProgramData\\\\Anaconda3\\\\lib', 'C:\\\\ProgramData\\\\Anaconda3', '', 'C:\\\\ProgramData\\\\Anaconda3\\\\lib\\\\site-packages', 'C:\\\\ProgramData\\\\Anaconda3\\\\lib\\\\site-packages\\\\win32', 'C:\\\\ProgramData\\\\Anaconda3\\\\lib\\\\site-packages\\\\win32\\\\lib', 'C:\\\\ProgramData\\\\Anaconda3\\\\lib\\\\site-packages\\\\Pythonwin', 'C:\\\\ProgramData\\\\Anaconda3\\\\lib\\\\site-packages\\\\IPython\\\\extensions', 'C:\\\\Users\\\\mehedi.farazi\\\\.ipython']\n",
      "\n",
      "List of directories in os module:\n",
      "\n",
      "<module 'ntpath' from 'C:\\\\ProgramData\\\\Anaconda3\\\\lib\\\\ntpath.py'>\n"
     ]
    }
   ],
   "source": [
    "import sys\n",
    "\n",
    "print('List of directories in sys module:\\n')\n",
    "print(sys.path)\n",
    "\n",
    "print('\\nList of directories in os module:\\n')\n",
    "print(os.path)"
   ]
  },
  {
   "cell_type": "markdown",
   "metadata": {},
   "source": [
    "## 147. Write a Python function to check whether a number is divisible by another number. Accept two integers values form the user. "
   ]
  },
  {
   "cell_type": "code",
   "execution_count": 165,
   "metadata": {},
   "outputs": [
    {
     "name": "stdout",
     "output_type": "stream",
     "text": [
      "True\n",
      "False\n"
     ]
    }
   ],
   "source": [
    "def divisible_check(a, b):\n",
    "    if (a % b) == 0:\n",
    "        return True\n",
    "    else:\n",
    "        return False\n",
    "        \n",
    "print(divisible_check(20, 5))\n",
    "print(divisible_check(7, 2))"
   ]
  },
  {
   "cell_type": "markdown",
   "metadata": {},
   "source": [
    "## 148. Write a Python function to find the maximum and minimum numbers from a sequence of numbers. "
   ]
  },
  {
   "cell_type": "code",
   "execution_count": 166,
   "metadata": {},
   "outputs": [
    {
     "data": {
      "text/plain": [
       "(75, -5)"
      ]
     },
     "execution_count": 166,
     "metadata": {},
     "output_type": "execute_result"
    }
   ],
   "source": [
    "def max_min(data):\n",
    "    largest = data[0]\n",
    "    smallest = data[0]\n",
    "    \n",
    "    for num in data:\n",
    "        if num > largest:\n",
    "            largest = num\n",
    "        elif num < smallest:\n",
    "            smallest = num\n",
    "    return largest, smallest\n",
    "\n",
    "max_min([0, 10, 15, 40, -5, 42, 17, 28, 75])"
   ]
  },
  {
   "cell_type": "markdown",
   "metadata": {},
   "source": [
    "## 149. Write a Python function that takes a positive integer and returns the sum of the cube of all the positive integers smaller than the specified number. "
   ]
  },
  {
   "cell_type": "code",
   "execution_count": 167,
   "metadata": {},
   "outputs": [
    {
     "data": {
      "text/plain": [
       "225.0"
      ]
     },
     "execution_count": 167,
     "metadata": {},
     "output_type": "execute_result"
    }
   ],
   "source": [
    "# Solution 1:\n",
    "\n",
    "def cube_sum(n):\n",
    "    n = n - 1\n",
    "    return ((n * (n + 1))/2)**2\n",
    "\n",
    "cube_sum(6)"
   ]
  },
  {
   "cell_type": "code",
   "execution_count": 168,
   "metadata": {},
   "outputs": [
    {
     "name": "stdout",
     "output_type": "stream",
     "text": [
      "Sum of cubes: 225\n"
     ]
    }
   ],
   "source": [
    "# Solution 2:\n",
    "\n",
    "def sum_of_cubes(n):\n",
    "  n = n - 1\n",
    "  total = 0\n",
    "  while n > 0:\n",
    "    total += n * n * n\n",
    "    n -= 1\n",
    "  return total\n",
    "print(\"Sum of cubes:\", sum_of_cubes(6))\n"
   ]
  },
  {
   "cell_type": "markdown",
   "metadata": {},
   "source": [
    "## 150. Write a Python function to find a distinct pair of numbers whose product is odd from a sequence of integer values.\n",
    "\n",
    "![Explanation](https://www.w3resource.com/w3r_images/python-basic-image-exercise-150.png)"
   ]
  },
  {
   "cell_type": "code",
   "execution_count": 170,
   "metadata": {},
   "outputs": [
    {
     "name": "stdout",
     "output_type": "stream",
     "text": [
      "[2, 4, 6, 8] None\n",
      "[1, 6, 4, 7, 8] True\n"
     ]
    }
   ],
   "source": [
    "def odd_product(nums):\n",
    "  for i in range(len(nums)):\n",
    "    for j in range(len(nums)):\n",
    "      if  i != j:                    # since we will not multiply the same position (value) of the list\n",
    "        product = nums[i] * nums[j]\n",
    "        if product & 1:\n",
    "          return True\n",
    "          return False\n",
    "          \n",
    "dt1 = [2, 4, 6, 8]\n",
    "dt2 = [1, 6, 4, 7, 8]\n",
    "\n",
    "print(dt1, odd_product(dt1))\n",
    "print(dt2, odd_product(dt2))"
   ]
  },
  {
   "cell_type": "markdown",
   "metadata": {},
   "source": [
    "#### Problem's Source: [https://www.w3resource.com/python-exercises/python-basic-exercises.php](https://www.w3resource.com/python-exercises/python-basic-exercises.php)"
   ]
  }
 ],
 "metadata": {
  "kernelspec": {
   "display_name": "Python 3",
   "language": "python",
   "name": "python3"
  },
  "language_info": {
   "codemirror_mode": {
    "name": "ipython",
    "version": 3
   },
   "file_extension": ".py",
   "mimetype": "text/x-python",
   "name": "python",
   "nbconvert_exporter": "python",
   "pygments_lexer": "ipython3",
   "version": "3.7.3"
  }
 },
 "nbformat": 4,
 "nbformat_minor": 1
}
